{
  "nbformat": 4,
  "nbformat_minor": 0,
  "metadata": {
    "colab": {
      "name": "Homework_3.ipynb",
      "provenance": [],
      "collapsed_sections": [],
      "include_colab_link": true
    },
    "language_info": {
      "mimetype": "text/x-python",
      "nbconvert_exporter": "python",
      "name": "python",
      "file_extension": ".py",
      "version": "3.5.4",
      "pygments_lexer": "ipython3",
      "codemirror_mode": {
        "version": 3,
        "name": "ipython"
      }
    },
    "kernelspec": {
      "name": "python3",
      "display_name": "Python 3"
    },
    "accelerator": "TPU"
  },
  "cells": [
    {
      "cell_type": "markdown",
      "metadata": {
        "id": "view-in-github",
        "colab_type": "text"
      },
      "source": [
        "<a href=\"https://colab.research.google.com/github/tevrat-aksoy/GlobalAIHubDLCourse/blob/main/Homeworks/Homework_3.ipynb\" target=\"_parent\"><img src=\"https://colab.research.google.com/assets/colab-badge.svg\" alt=\"Open In Colab\"/></a>"
      ]
    },
    {
      "cell_type": "markdown",
      "metadata": {
        "id": "6Xd6IQ1ZczKO"
      },
      "source": [
        "# Design Choices in Convolutional Neural Networks"
      ]
    },
    {
      "cell_type": "markdown",
      "metadata": {
        "id": "UolsLXSQczHh"
      },
      "source": [
        "###  Importing packages"
      ]
    },
    {
      "cell_type": "code",
      "metadata": {
        "trusted": true,
        "id": "kwe0QooaczHk"
      },
      "source": [
        "import numpy as np\n",
        "import keras\n",
        "from keras.datasets import mnist\n",
        "from keras.models import Sequential\n",
        "from keras.layers import Dense, Dropout, Flatten, Conv2D, MaxPooling2D\n",
        "from keras import backend as K\n",
        "from keras.preprocessing import image\n",
        "from keras.applications.mobilenet import MobileNet\n",
        "from keras.applications.vgg16 import preprocess_input, decode_predictions\n",
        "from keras.models import Model\n",
        "import timeit\n",
        "\n",
        "import warnings\n",
        "warnings.filterwarnings('ignore')"
      ],
      "execution_count": 1,
      "outputs": []
    },
    {
      "cell_type": "markdown",
      "metadata": {
        "id": "thEIzUfFczHy"
      },
      "source": [
        "### Preparing Dataset"
      ]
    },
    {
      "cell_type": "code",
      "metadata": {
        "trusted": true,
        "id": "-s6iKY5QczH0",
        "colab": {
          "base_uri": "https://localhost:8080/"
        },
        "outputId": "f957cb8b-1188-4f1f-f20e-419564cf02eb"
      },
      "source": [
        "batch_size = 128\n",
        "num_classes = 10\n",
        "epochs = 2\n",
        "\n",
        "# input image dimensions\n",
        "img_rows, img_cols = 28, 28\n",
        "\n",
        "# the data, shuffled and split between train and test sets\n",
        "(x_train, y_train), (x_test, y_test) = mnist.load_data()\n",
        "\n",
        "if K.image_data_format() == 'channels_first':\n",
        "    x_train = x_train.reshape(x_train.shape[0], 1, img_rows, img_cols)\n",
        "    x_test = x_test.reshape(x_test.shape[0], 1, img_rows, img_cols)\n",
        "    input_shape = (1, img_rows, img_cols)\n",
        "else:\n",
        "    x_train = x_train.reshape(x_train.shape[0], img_rows, img_cols, 1)\n",
        "    x_test = x_test.reshape(x_test.shape[0], img_rows, img_cols, 1)\n",
        "    input_shape = (img_rows, img_cols, 1)\n",
        "\n",
        "x_train = x_train.astype('float32')\n",
        "x_test = x_test.astype('float32')\n",
        "x_train /= 255\n",
        "x_test /= 255\n",
        "print('x_train shape:', x_train.shape)\n",
        "print(x_train.shape[0], 'train samples')\n",
        "print(x_test.shape[0], 'test samples')\n",
        "\n",
        "# convert class vectors to binary class matrices\n",
        "y_train = keras.utils.to_categorical(y_train, num_classes)\n",
        "y_test = keras.utils.to_categorical(y_test, num_classes)"
      ],
      "execution_count": 2,
      "outputs": [
        {
          "output_type": "stream",
          "text": [
            "Downloading data from https://storage.googleapis.com/tensorflow/tf-keras-datasets/mnist.npz\n",
            "11493376/11490434 [==============================] - 0s 0us/step\n",
            "x_train shape: (60000, 28, 28, 1)\n",
            "60000 train samples\n",
            "10000 test samples\n"
          ],
          "name": "stdout"
        }
      ]
    },
    {
      "cell_type": "markdown",
      "metadata": {
        "id": "weHnDsMoczKO"
      },
      "source": [
        "## Part 1: Influence of convolution size\r\n",
        "\r\n",
        "Try the models with different convolution sizes 5x5, 7x7 and 9x9 etc.\r\n",
        "\r\n",
        "Analyze the number of model parameters, accuracy and training time"
      ]
    },
    {
      "cell_type": "markdown",
      "metadata": {
        "id": "xDmQdJkAczKP"
      },
      "source": [
        "### Model with (3 x 3) Convolution"
      ]
    },
    {
      "cell_type": "code",
      "metadata": {
        "trusted": true,
        "id": "_LbhbPPwczKQ",
        "colab": {
          "base_uri": "https://localhost:8080/"
        },
        "outputId": "bc7af10c-d174-480b-8f91-c1d03f5ef42c"
      },
      "source": [
        "K.clear_session()\n",
        "start = timeit.default_timer()   \n",
        "model = Sequential()\n",
        "model.add(Conv2D(8, kernel_size=(3, 3), activation='relu', input_shape=input_shape))\n",
        "model.add(Conv2D(16, (3, 3), activation='relu'))\n",
        "model.add(Flatten())\n",
        "model.add(Dense(32, activation='relu'))\n",
        "model.add(Dense(num_classes, activation='softmax'))\n",
        "model.summary()\n",
        "model.compile(loss=keras.losses.categorical_crossentropy, optimizer=keras.optimizers.Adadelta(), metrics=['accuracy'])\n",
        "model.fit(x_train, y_train, batch_size=batch_size, epochs=epochs, verbose=1, validation_data=(x_test, y_test))\n",
        "end = timeit.default_timer()\n",
        "print(\"Time Taken to run the model:\",end - start, \"seconds\")  "
      ],
      "execution_count": 3,
      "outputs": [
        {
          "output_type": "stream",
          "text": [
            "Model: \"sequential\"\n",
            "_________________________________________________________________\n",
            "Layer (type)                 Output Shape              Param #   \n",
            "=================================================================\n",
            "conv2d (Conv2D)              (None, 26, 26, 8)         80        \n",
            "_________________________________________________________________\n",
            "conv2d_1 (Conv2D)            (None, 24, 24, 16)        1168      \n",
            "_________________________________________________________________\n",
            "flatten (Flatten)            (None, 9216)              0         \n",
            "_________________________________________________________________\n",
            "dense (Dense)                (None, 32)                294944    \n",
            "_________________________________________________________________\n",
            "dense_1 (Dense)              (None, 10)                330       \n",
            "=================================================================\n",
            "Total params: 296,522\n",
            "Trainable params: 296,522\n",
            "Non-trainable params: 0\n",
            "_________________________________________________________________\n",
            "Epoch 1/2\n",
            "469/469 [==============================] - 34s 71ms/step - loss: 2.2837 - accuracy: 0.1450 - val_loss: 2.2392 - val_accuracy: 0.3405\n",
            "Epoch 2/2\n",
            "469/469 [==============================] - 33s 70ms/step - loss: 2.2217 - accuracy: 0.3759 - val_loss: 2.1576 - val_accuracy: 0.4649\n",
            "Time Taken to run the model: 67.28864693800006 seconds\n"
          ],
          "name": "stdout"
        }
      ]
    },
    {
      "cell_type": "markdown",
      "metadata": {
        "id": "0DnVhOxDczKS"
      },
      "source": [
        "### Try models with different Convolution sizes"
      ]
    },
    {
      "cell_type": "code",
      "metadata": {
        "trusted": true,
        "id": "oQopxYu5czKT",
        "colab": {
          "base_uri": "https://localhost:8080/"
        },
        "outputId": "28b55404-9225-4f6f-ea5d-de70629f0df2"
      },
      "source": [
        "# Write your code here. Use the same architecture as above. \n",
        "\n",
        "K.clear_session()\n",
        "start = timeit.default_timer()   \n",
        "model = Sequential()\n",
        "model.add(Conv2D(8, kernel_size=(5, 5), activation='relu', input_shape=input_shape))\n",
        "model.add(Conv2D(16, (5, 5), activation='relu'))\n",
        "model.add(Flatten())\n",
        "model.add(Dense(32, activation='relu'))\n",
        "model.add(Dense(num_classes, activation='softmax'))\n",
        "model.summary()\n",
        "model.compile(loss=keras.losses.categorical_crossentropy, optimizer=keras.optimizers.Adadelta(), metrics=['accuracy'])\n",
        "model.fit(x_train, y_train, batch_size=batch_size, epochs=epochs, verbose=1, validation_data=(x_test, y_test))\n",
        "end = timeit.default_timer()\n",
        "print(\"Time Taken to run the model:\",end - start, \"seconds\")  "
      ],
      "execution_count": 4,
      "outputs": [
        {
          "output_type": "stream",
          "text": [
            "Model: \"sequential\"\n",
            "_________________________________________________________________\n",
            "Layer (type)                 Output Shape              Param #   \n",
            "=================================================================\n",
            "conv2d (Conv2D)              (None, 24, 24, 8)         208       \n",
            "_________________________________________________________________\n",
            "conv2d_1 (Conv2D)            (None, 20, 20, 16)        3216      \n",
            "_________________________________________________________________\n",
            "flatten (Flatten)            (None, 6400)              0         \n",
            "_________________________________________________________________\n",
            "dense (Dense)                (None, 32)                204832    \n",
            "_________________________________________________________________\n",
            "dense_1 (Dense)              (None, 10)                330       \n",
            "=================================================================\n",
            "Total params: 208,586\n",
            "Trainable params: 208,586\n",
            "Non-trainable params: 0\n",
            "_________________________________________________________________\n",
            "Epoch 1/2\n",
            "469/469 [==============================] - 45s 95ms/step - loss: 2.2950 - accuracy: 0.1713 - val_loss: 2.1998 - val_accuracy: 0.3200\n",
            "Epoch 2/2\n",
            "469/469 [==============================] - 44s 95ms/step - loss: 2.1707 - accuracy: 0.3501 - val_loss: 2.0573 - val_accuracy: 0.4605\n",
            "Time Taken to run the model: 89.65510916699998 seconds\n"
          ],
          "name": "stdout"
        }
      ]
    },
    {
      "cell_type": "code",
      "metadata": {
        "id": "oTAM1ojBn4aG",
        "colab": {
          "base_uri": "https://localhost:8080/"
        },
        "outputId": "5cb23d0b-7232-4f88-8937-42906635a80e"
      },
      "source": [
        "# Write your code here. Use the same architecture as above. \r\n",
        "\r\n",
        "K.clear_session()\r\n",
        "start = timeit.default_timer()   \r\n",
        "model = Sequential()\r\n",
        "model.add(Conv2D(8, kernel_size=(7, 7), activation='relu', input_shape=input_shape))\r\n",
        "model.add(Conv2D(16, (7, 7), activation='relu'))\r\n",
        "model.add(Flatten())\r\n",
        "model.add(Dense(32, activation='relu'))\r\n",
        "model.add(Dense(num_classes, activation='softmax'))\r\n",
        "model.summary()\r\n",
        "model.compile(loss=keras.losses.categorical_crossentropy, optimizer=keras.optimizers.Adadelta(), metrics=['accuracy'])\r\n",
        "model.fit(x_train, y_train, batch_size=batch_size, epochs=epochs, verbose=1, validation_data=(x_test, y_test))\r\n",
        "end = timeit.default_timer()\r\n",
        "print(\"Time Taken to run the model:\",end - start, \"seconds\") "
      ],
      "execution_count": 5,
      "outputs": [
        {
          "output_type": "stream",
          "text": [
            "Model: \"sequential\"\n",
            "_________________________________________________________________\n",
            "Layer (type)                 Output Shape              Param #   \n",
            "=================================================================\n",
            "conv2d (Conv2D)              (None, 22, 22, 8)         400       \n",
            "_________________________________________________________________\n",
            "conv2d_1 (Conv2D)            (None, 16, 16, 16)        6288      \n",
            "_________________________________________________________________\n",
            "flatten (Flatten)            (None, 4096)              0         \n",
            "_________________________________________________________________\n",
            "dense (Dense)                (None, 32)                131104    \n",
            "_________________________________________________________________\n",
            "dense_1 (Dense)              (None, 10)                330       \n",
            "=================================================================\n",
            "Total params: 138,122\n",
            "Trainable params: 138,122\n",
            "Non-trainable params: 0\n",
            "_________________________________________________________________\n",
            "Epoch 1/2\n",
            "469/469 [==============================] - 53s 113ms/step - loss: 2.3072 - accuracy: 0.0786 - val_loss: 2.2772 - val_accuracy: 0.2074\n",
            "Epoch 2/2\n",
            "469/469 [==============================] - 52s 112ms/step - loss: 2.2653 - accuracy: 0.2525 - val_loss: 2.2185 - val_accuracy: 0.3762\n",
            "Time Taken to run the model: 105.62451993400009 seconds\n"
          ],
          "name": "stdout"
        }
      ]
    },
    {
      "cell_type": "code",
      "metadata": {
        "id": "PNOb8hDrn416",
        "colab": {
          "base_uri": "https://localhost:8080/"
        },
        "outputId": "71f3d0b8-ebf5-4d0c-d939-4cb948ce3c5c"
      },
      "source": [
        "# Write your code here. Use the same architecture as above. \r\n",
        "# Write your code here. Use the same architecture as above. \r\n",
        "\r\n",
        "K.clear_session()\r\n",
        "start = timeit.default_timer()   \r\n",
        "model = Sequential()\r\n",
        "model.add(Conv2D(8, kernel_size=(9, 9), activation='relu', input_shape=input_shape))\r\n",
        "model.add(Conv2D(16, (9, 9), activation='relu'))\r\n",
        "model.add(Flatten())\r\n",
        "model.add(Dense(32, activation='relu'))\r\n",
        "model.add(Dense(num_classes, activation='softmax'))\r\n",
        "model.summary()\r\n",
        "model.compile(loss=keras.losses.categorical_crossentropy, optimizer=keras.optimizers.Adadelta(), metrics=['accuracy'])\r\n",
        "model.fit(x_train, y_train, batch_size=batch_size, epochs=epochs, verbose=1, validation_data=(x_test, y_test))\r\n",
        "end = timeit.default_timer()\r\n",
        "print(\"Time Taken to run the model:\",end - start, \"seconds\") \r\n"
      ],
      "execution_count": 6,
      "outputs": [
        {
          "output_type": "stream",
          "text": [
            "Model: \"sequential\"\n",
            "_________________________________________________________________\n",
            "Layer (type)                 Output Shape              Param #   \n",
            "=================================================================\n",
            "conv2d (Conv2D)              (None, 20, 20, 8)         656       \n",
            "_________________________________________________________________\n",
            "conv2d_1 (Conv2D)            (None, 12, 12, 16)        10384     \n",
            "_________________________________________________________________\n",
            "flatten (Flatten)            (None, 2304)              0         \n",
            "_________________________________________________________________\n",
            "dense (Dense)                (None, 32)                73760     \n",
            "_________________________________________________________________\n",
            "dense_1 (Dense)              (None, 10)                330       \n",
            "=================================================================\n",
            "Total params: 85,130\n",
            "Trainable params: 85,130\n",
            "Non-trainable params: 0\n",
            "_________________________________________________________________\n",
            "Epoch 1/2\n",
            "469/469 [==============================] - 54s 115ms/step - loss: 2.3079 - accuracy: 0.0881 - val_loss: 2.2880 - val_accuracy: 0.1394\n",
            "Epoch 2/2\n",
            "469/469 [==============================] - 55s 117ms/step - loss: 2.2812 - accuracy: 0.1628 - val_loss: 2.2587 - val_accuracy: 0.2345\n",
            "Time Taken to run the model: 109.27956164399995 seconds\n"
          ],
          "name": "stdout"
        }
      ]
    },
    {
      "cell_type": "markdown",
      "metadata": {
        "id": "ONNy-NSdoB69"
      },
      "source": [
        "### Write your findings about activations here?\r\n",
        "\r\n",
        "1.   When model validation accuracies are checked, we can see that bigger convolution filtered models don't have better accuracy. For this dataset 5x5 convolution seems a better choice but there can be a better filter size for a different dataset\r\n",
        "\r\n",
        "\r\n",
        "2.   Also bigger convulution filter increase training time. \r\n",
        "\r\n",
        "\r\n"
      ]
    },
    {
      "cell_type": "code",
      "metadata": {
        "id": "p7R_v0A5v_w2"
      },
      "source": [
        ""
      ],
      "execution_count": 6,
      "outputs": []
    },
    {
      "cell_type": "markdown",
      "metadata": {
        "id": "nbjj4YUAczKW"
      },
      "source": [
        "## Part 2: Influence of Striding\r\n",
        "\r\n",
        "Try the models with different stride sizes such as 2,3,4 etc.\r\n",
        "\r\n",
        "Analyze the number of model parameters, accuracy and training time"
      ]
    },
    {
      "cell_type": "markdown",
      "metadata": {
        "id": "pr45UR1uczKW"
      },
      "source": [
        "### Model with Convolution with 2 Steps"
      ]
    },
    {
      "cell_type": "code",
      "metadata": {
        "trusted": true,
        "id": "CUB3Zt_9czKX",
        "colab": {
          "base_uri": "https://localhost:8080/"
        },
        "outputId": "b2f4e40e-560f-4bb5-87d7-ee55342aa1ef"
      },
      "source": [
        "start = timeit.default_timer()   \n",
        "model = Sequential()\n",
        "model.add(Conv2D(8, kernel_size=(3, 3), strides=2, activation='relu', input_shape=input_shape))\n",
        "model.add(Conv2D(16, (3, 3), strides=2, activation='relu'))\n",
        "model.add(Flatten())\n",
        "model.add(Dense(32, activation='relu'))\n",
        "model.add(Dense(num_classes, activation='softmax'))\n",
        "model.summary()\n",
        "model.compile(loss=keras.losses.categorical_crossentropy, optimizer=keras.optimizers.Adadelta(), metrics=['accuracy'])\n",
        "model.fit(x_train, y_train, batch_size=batch_size, epochs=epochs, verbose=1, validation_data=(x_test, y_test))\n",
        "end = timeit.default_timer()\n",
        "print(\"Time Taken to run the model:\",end - start, \"seconds\")  "
      ],
      "execution_count": 7,
      "outputs": [
        {
          "output_type": "stream",
          "text": [
            "Model: \"sequential_1\"\n",
            "_________________________________________________________________\n",
            "Layer (type)                 Output Shape              Param #   \n",
            "=================================================================\n",
            "conv2d_2 (Conv2D)            (None, 13, 13, 8)         80        \n",
            "_________________________________________________________________\n",
            "conv2d_3 (Conv2D)            (None, 6, 6, 16)          1168      \n",
            "_________________________________________________________________\n",
            "flatten_1 (Flatten)          (None, 576)               0         \n",
            "_________________________________________________________________\n",
            "dense_2 (Dense)              (None, 32)                18464     \n",
            "_________________________________________________________________\n",
            "dense_3 (Dense)              (None, 10)                330       \n",
            "=================================================================\n",
            "Total params: 20,042\n",
            "Trainable params: 20,042\n",
            "Non-trainable params: 0\n",
            "_________________________________________________________________\n",
            "Epoch 1/2\n",
            "469/469 [==============================] - 7s 15ms/step - loss: 2.3028 - accuracy: 0.0905 - val_loss: 2.3027 - val_accuracy: 0.0908\n",
            "Epoch 2/2\n",
            "469/469 [==============================] - 7s 14ms/step - loss: 2.3020 - accuracy: 0.0926 - val_loss: 2.3019 - val_accuracy: 0.0929\n",
            "Time Taken to run the model: 13.973207538999986 seconds\n"
          ],
          "name": "stdout"
        }
      ]
    },
    {
      "cell_type": "code",
      "metadata": {
        "id": "yG03EwvJovUK",
        "colab": {
          "base_uri": "https://localhost:8080/"
        },
        "outputId": "eda93e15-f0ec-48d2-a073-512cc918eb88"
      },
      "source": [
        "# Write your code here. Use the same architecture as above. \r\n",
        "\r\n",
        "start = timeit.default_timer()   \r\n",
        "model = Sequential()\r\n",
        "model.add(Conv2D(8, kernel_size=(3, 3), strides=3, activation='relu', input_shape=input_shape))\r\n",
        "model.add(Conv2D(16, (3, 3), strides=3, activation='relu'))\r\n",
        "model.add(Flatten())\r\n",
        "model.add(Dense(32, activation='relu'))\r\n",
        "model.add(Dense(num_classes, activation='softmax'))\r\n",
        "model.summary()\r\n",
        "model.compile(loss=keras.losses.categorical_crossentropy, optimizer=keras.optimizers.Adadelta(), metrics=['accuracy'])\r\n",
        "model.fit(x_train, y_train, batch_size=batch_size, epochs=epochs, verbose=1, validation_data=(x_test, y_test))\r\n",
        "end = timeit.default_timer()\r\n",
        "print(\"Time Taken to run the model:\",end - start, \"seconds\")  "
      ],
      "execution_count": 8,
      "outputs": [
        {
          "output_type": "stream",
          "text": [
            "Model: \"sequential_2\"\n",
            "_________________________________________________________________\n",
            "Layer (type)                 Output Shape              Param #   \n",
            "=================================================================\n",
            "conv2d_4 (Conv2D)            (None, 9, 9, 8)           80        \n",
            "_________________________________________________________________\n",
            "conv2d_5 (Conv2D)            (None, 3, 3, 16)          1168      \n",
            "_________________________________________________________________\n",
            "flatten_2 (Flatten)          (None, 144)               0         \n",
            "_________________________________________________________________\n",
            "dense_4 (Dense)              (None, 32)                4640      \n",
            "_________________________________________________________________\n",
            "dense_5 (Dense)              (None, 10)                330       \n",
            "=================================================================\n",
            "Total params: 6,218\n",
            "Trainable params: 6,218\n",
            "Non-trainable params: 0\n",
            "_________________________________________________________________\n",
            "Epoch 1/2\n",
            "469/469 [==============================] - 4s 8ms/step - loss: 2.3021 - accuracy: 0.1231 - val_loss: 2.3008 - val_accuracy: 0.1310\n",
            "Epoch 2/2\n",
            "469/469 [==============================] - 3s 7ms/step - loss: 2.3006 - accuracy: 0.1243 - val_loss: 2.2992 - val_accuracy: 0.1335\n",
            "Time Taken to run the model: 7.603855410999927 seconds\n"
          ],
          "name": "stdout"
        }
      ]
    },
    {
      "cell_type": "code",
      "metadata": {
        "id": "MaUGoQaPov0I",
        "colab": {
          "base_uri": "https://localhost:8080/"
        },
        "outputId": "71af7297-21b5-4992-af9c-2c57861cfb5d"
      },
      "source": [
        "# Write your code here. Use the same architecture as above. \r\n",
        "start = timeit.default_timer()   \r\n",
        "model = Sequential()\r\n",
        "model.add(Conv2D(8, kernel_size=(3, 4), strides=4, activation='relu', input_shape=input_shape))\r\n",
        "model.add(Conv2D(16, (3, 3), strides=4, activation='relu'))\r\n",
        "model.add(Flatten())\r\n",
        "model.add(Dense(32, activation='relu'))\r\n",
        "model.add(Dense(num_classes, activation='softmax'))\r\n",
        "model.summary()\r\n",
        "model.compile(loss=keras.losses.categorical_crossentropy, optimizer=keras.optimizers.Adadelta(), metrics=['accuracy'])\r\n",
        "model.fit(x_train, y_train, batch_size=batch_size, epochs=epochs, verbose=1, validation_data=(x_test, y_test))\r\n",
        "end = timeit.default_timer()\r\n",
        "print(\"Time Taken to run the model:\",end - start, \"seconds\")  \r\n"
      ],
      "execution_count": 9,
      "outputs": [
        {
          "output_type": "stream",
          "text": [
            "Model: \"sequential_3\"\n",
            "_________________________________________________________________\n",
            "Layer (type)                 Output Shape              Param #   \n",
            "=================================================================\n",
            "conv2d_6 (Conv2D)            (None, 7, 7, 8)           104       \n",
            "_________________________________________________________________\n",
            "conv2d_7 (Conv2D)            (None, 2, 2, 16)          1168      \n",
            "_________________________________________________________________\n",
            "flatten_3 (Flatten)          (None, 64)                0         \n",
            "_________________________________________________________________\n",
            "dense_6 (Dense)              (None, 32)                2080      \n",
            "_________________________________________________________________\n",
            "dense_7 (Dense)              (None, 10)                330       \n",
            "=================================================================\n",
            "Total params: 3,682\n",
            "Trainable params: 3,682\n",
            "Non-trainable params: 0\n",
            "_________________________________________________________________\n",
            "Epoch 1/2\n",
            "469/469 [==============================] - 3s 6ms/step - loss: 2.3005 - accuracy: 0.0872 - val_loss: 2.2998 - val_accuracy: 0.0903\n",
            "Epoch 2/2\n",
            "469/469 [==============================] - 3s 6ms/step - loss: 2.2994 - accuracy: 0.0892 - val_loss: 2.2986 - val_accuracy: 0.0921\n",
            "Time Taken to run the model: 6.074844444000064 seconds\n"
          ],
          "name": "stdout"
        }
      ]
    },
    {
      "cell_type": "code",
      "metadata": {
        "id": "Ypo87ms7owJX",
        "colab": {
          "base_uri": "https://localhost:8080/"
        },
        "outputId": "5ff9b00b-6b42-47e5-9816-33a730908a84"
      },
      "source": [
        "# Write your code here. Use the same architecture as above. \r\n",
        "\r\n",
        "start = timeit.default_timer()   \r\n",
        "model = Sequential()\r\n",
        "model.add(Conv2D(8, kernel_size=(3, 3), strides=5, activation='relu', input_shape=input_shape))\r\n",
        "model.add(Conv2D(16, (3, 3), strides=5, activation='relu'))\r\n",
        "model.add(Flatten())\r\n",
        "model.add(Dense(32, activation='relu'))\r\n",
        "model.add(Dense(num_classes, activation='softmax'))\r\n",
        "model.summary()\r\n",
        "model.compile(loss=keras.losses.categorical_crossentropy, optimizer=keras.optimizers.Adadelta(), metrics=['accuracy'])\r\n",
        "model.fit(x_train, y_train, batch_size=batch_size, epochs=epochs, verbose=1, validation_data=(x_test, y_test))\r\n",
        "end = timeit.default_timer()\r\n",
        "print(\"Time Taken to run the model:\",end - start, \"seconds\")  "
      ],
      "execution_count": 10,
      "outputs": [
        {
          "output_type": "stream",
          "text": [
            "Model: \"sequential_4\"\n",
            "_________________________________________________________________\n",
            "Layer (type)                 Output Shape              Param #   \n",
            "=================================================================\n",
            "conv2d_8 (Conv2D)            (None, 6, 6, 8)           80        \n",
            "_________________________________________________________________\n",
            "conv2d_9 (Conv2D)            (None, 1, 1, 16)          1168      \n",
            "_________________________________________________________________\n",
            "flatten_4 (Flatten)          (None, 16)                0         \n",
            "_________________________________________________________________\n",
            "dense_8 (Dense)              (None, 32)                544       \n",
            "_________________________________________________________________\n",
            "dense_9 (Dense)              (None, 10)                330       \n",
            "=================================================================\n",
            "Total params: 2,122\n",
            "Trainable params: 2,122\n",
            "Non-trainable params: 0\n",
            "_________________________________________________________________\n",
            "Epoch 1/2\n",
            "469/469 [==============================] - 3s 5ms/step - loss: 2.2982 - accuracy: 0.1625 - val_loss: 2.2971 - val_accuracy: 0.1748\n",
            "Epoch 2/2\n",
            "469/469 [==============================] - 2s 5ms/step - loss: 2.2976 - accuracy: 0.1752 - val_loss: 2.2967 - val_accuracy: 0.1775\n",
            "Time Taken to run the model: 5.021497554999996 seconds\n"
          ],
          "name": "stdout"
        }
      ]
    },
    {
      "cell_type": "markdown",
      "metadata": {
        "id": "6nH_wTLUoDJH"
      },
      "source": [
        "### Write your findings about influence of striding here?\r\n",
        "\r\n",
        "1.   It is seen that the increasing stride value decreases the training time.\r\n",
        "2.   Also, it would be more appropriate to choose low values as it may cause the model to skip some data. Because of that increasing stride value may cause lower accuracy.\r\n",
        "\r\n",
        "\r\n"
      ]
    },
    {
      "cell_type": "markdown",
      "metadata": {
        "id": "vsIaUMRIczKb"
      },
      "source": [
        "## Part 3: Influence of Padding\r\n",
        "\r\n",
        "Try the models with padding and without padding.\r\n",
        "\r\n",
        "Analyze the number of model parameters, accuracy and training time"
      ]
    },
    {
      "cell_type": "markdown",
      "metadata": {
        "id": "C8GP6BmVczKd"
      },
      "source": [
        "### Model with (3 x 3) Convolution with Same Padding"
      ]
    },
    {
      "cell_type": "code",
      "metadata": {
        "trusted": true,
        "id": "SZNcZ0BoczKe",
        "colab": {
          "base_uri": "https://localhost:8080/"
        },
        "outputId": "3fef4cb3-7cfd-475b-a0b6-bdd3fbf1e821"
      },
      "source": [
        "start = timeit.default_timer()   \n",
        "model = Sequential()\n",
        "model.add(Conv2D(8, kernel_size=(3, 3), strides=1, padding='same', activation='relu', input_shape=input_shape))\n",
        "model.add(Conv2D(16, (3, 3), strides=1, padding='same', activation='relu'))\n",
        "model.add(Flatten())\n",
        "model.add(Dense(32, activation='relu'))\n",
        "model.add(Dense(num_classes, activation='softmax'))\n",
        "model.summary()\n",
        "model.compile(loss=keras.losses.categorical_crossentropy, optimizer=keras.optimizers.Adadelta(), metrics=['accuracy'])\n",
        "model.fit(x_train, y_train, batch_size=batch_size, epochs=epochs, verbose=1, validation_data=(x_test, y_test))\n",
        "end = timeit.default_timer()\n",
        "print(\"Time Taken to run the model:\",end - start, \"seconds\")  "
      ],
      "execution_count": 11,
      "outputs": [
        {
          "output_type": "stream",
          "text": [
            "Model: \"sequential_5\"\n",
            "_________________________________________________________________\n",
            "Layer (type)                 Output Shape              Param #   \n",
            "=================================================================\n",
            "conv2d_10 (Conv2D)           (None, 28, 28, 8)         80        \n",
            "_________________________________________________________________\n",
            "conv2d_11 (Conv2D)           (None, 28, 28, 16)        1168      \n",
            "_________________________________________________________________\n",
            "flatten_5 (Flatten)          (None, 12544)             0         \n",
            "_________________________________________________________________\n",
            "dense_10 (Dense)             (None, 32)                401440    \n",
            "_________________________________________________________________\n",
            "dense_11 (Dense)             (None, 10)                330       \n",
            "=================================================================\n",
            "Total params: 403,018\n",
            "Trainable params: 403,018\n",
            "Non-trainable params: 0\n",
            "_________________________________________________________________\n",
            "Epoch 1/2\n",
            "469/469 [==============================] - 42s 88ms/step - loss: 2.2948 - accuracy: 0.1677 - val_loss: 2.2594 - val_accuracy: 0.2952\n",
            "Epoch 2/2\n",
            "469/469 [==============================] - 42s 89ms/step - loss: 2.2453 - accuracy: 0.3329 - val_loss: 2.1982 - val_accuracy: 0.3995\n",
            "Time Taken to run the model: 83.48119941699997 seconds\n"
          ],
          "name": "stdout"
        }
      ]
    },
    {
      "cell_type": "code",
      "metadata": {
        "id": "lKKnUSgJo0R2",
        "colab": {
          "base_uri": "https://localhost:8080/"
        },
        "outputId": "9a88b552-65f8-4bba-c6a0-d92925064ee0"
      },
      "source": [
        "# Write your code here. Use the same architecture as above. \r\n",
        "\r\n",
        "start = timeit.default_timer()   \r\n",
        "model = Sequential()\r\n",
        "model.add(Conv2D(8, kernel_size=(3, 3), strides=1, padding='valid', activation='relu', input_shape=input_shape))\r\n",
        "model.add(Conv2D(16, (3, 3), strides=1, padding='valid', activation='relu'))\r\n",
        "model.add(Flatten())\r\n",
        "model.add(Dense(32, activation='relu'))\r\n",
        "model.add(Dense(num_classes, activation='softmax'))\r\n",
        "model.summary()\r\n",
        "model.compile(loss=keras.losses.categorical_crossentropy, optimizer=keras.optimizers.Adadelta(), metrics=['accuracy'])\r\n",
        "model.fit(x_train, y_train, batch_size=batch_size, epochs=epochs, verbose=1, validation_data=(x_test, y_test))\r\n",
        "end = timeit.default_timer()\r\n",
        "print(\"Time Taken to run the model:\",end - start, \"seconds\")  "
      ],
      "execution_count": 19,
      "outputs": [
        {
          "output_type": "stream",
          "text": [
            "Model: \"sequential_9\"\n",
            "_________________________________________________________________\n",
            "Layer (type)                 Output Shape              Param #   \n",
            "=================================================================\n",
            "conv2d_16 (Conv2D)           (None, 26, 26, 8)         80        \n",
            "_________________________________________________________________\n",
            "conv2d_17 (Conv2D)           (None, 24, 24, 16)        1168      \n",
            "_________________________________________________________________\n",
            "flatten_7 (Flatten)          (None, 9216)              0         \n",
            "_________________________________________________________________\n",
            "dense_14 (Dense)             (None, 32)                294944    \n",
            "_________________________________________________________________\n",
            "dense_15 (Dense)             (None, 10)                330       \n",
            "=================================================================\n",
            "Total params: 296,522\n",
            "Trainable params: 296,522\n",
            "Non-trainable params: 0\n",
            "_________________________________________________________________\n",
            "Epoch 1/2\n",
            "469/469 [==============================] - 34s 72ms/step - loss: 2.3002 - accuracy: 0.1156 - val_loss: 2.2897 - val_accuracy: 0.1825\n",
            "Epoch 2/2\n",
            "469/469 [==============================] - 33s 71ms/step - loss: 2.2860 - accuracy: 0.2086 - val_loss: 2.2733 - val_accuracy: 0.2781\n",
            "Time Taken to run the model: 67.26940655599992 seconds\n"
          ],
          "name": "stdout"
        }
      ]
    },
    {
      "cell_type": "code",
      "metadata": {
        "id": "ddUyN3Fioz_3",
        "colab": {
          "base_uri": "https://localhost:8080/"
        },
        "outputId": "05ff2d22-324e-4fb5-edfa-c5ebe9728858"
      },
      "source": [
        "# Write your code here. Use the same architecture as above. \r\n",
        "\r\n",
        "start = timeit.default_timer()   \r\n",
        "model = Sequential()\r\n",
        "model.add(Conv2D(8, kernel_size=(3, 3), strides=1 , activation='relu', input_shape=input_shape))\r\n",
        "model.add(Conv2D(16, (3, 3), strides=1, activation='relu'))\r\n",
        "model.add(Flatten())\r\n",
        "model.add(Dense(32, activation='relu'))\r\n",
        "model.add(Dense(num_classes, activation='softmax'))\r\n",
        "model.summary()\r\n",
        "model.compile(loss=keras.losses.categorical_crossentropy, optimizer=keras.optimizers.Adadelta(), metrics=['accuracy'])\r\n",
        "model.fit(x_train, y_train, batch_size=batch_size, epochs=epochs, verbose=1, validation_data=(x_test, y_test))\r\n",
        "end = timeit.default_timer()\r\n",
        "print(\"Time Taken to run the model:\",end - start, \"seconds\")  "
      ],
      "execution_count": 20,
      "outputs": [
        {
          "output_type": "stream",
          "text": [
            "Model: \"sequential_10\"\n",
            "_________________________________________________________________\n",
            "Layer (type)                 Output Shape              Param #   \n",
            "=================================================================\n",
            "conv2d_18 (Conv2D)           (None, 26, 26, 8)         80        \n",
            "_________________________________________________________________\n",
            "conv2d_19 (Conv2D)           (None, 24, 24, 16)        1168      \n",
            "_________________________________________________________________\n",
            "flatten_8 (Flatten)          (None, 9216)              0         \n",
            "_________________________________________________________________\n",
            "dense_16 (Dense)             (None, 32)                294944    \n",
            "_________________________________________________________________\n",
            "dense_17 (Dense)             (None, 10)                330       \n",
            "=================================================================\n",
            "Total params: 296,522\n",
            "Trainable params: 296,522\n",
            "Non-trainable params: 0\n",
            "_________________________________________________________________\n",
            "Epoch 1/2\n",
            "469/469 [==============================] - 34s 72ms/step - loss: 2.2997 - accuracy: 0.1353 - val_loss: 2.2712 - val_accuracy: 0.2301\n",
            "Epoch 2/2\n",
            "469/469 [==============================] - 34s 72ms/step - loss: 2.2597 - accuracy: 0.2554 - val_loss: 2.2210 - val_accuracy: 0.3370\n",
            "Time Taken to run the model: 67.93638893100001 seconds\n"
          ],
          "name": "stdout"
        }
      ]
    },
    {
      "cell_type": "markdown",
      "metadata": {
        "id": "xp-yZFx4oEqt"
      },
      "source": [
        "### Write your findings about influence of padding here?\r\n",
        "\r\n",
        "1.   With padding model learned more features and reached higher accuracy.\r\n",
        "2.   Since there are more parameters with padding training time also increased.\r\n",
        "\r\n",
        "\r\n"
      ]
    },
    {
      "cell_type": "markdown",
      "metadata": {
        "id": "KvGFyAkjczKj"
      },
      "source": [
        "## Part 4: Influence of Pooling\r\n",
        "\r\n",
        "Try the models with different pooling window sizes such as 2x2, 3x3, 4x4 etc.\r\n",
        "\r\n",
        "Analyze the number of model parameters, accuracy and training time"
      ]
    },
    {
      "cell_type": "markdown",
      "metadata": {
        "id": "R1W63cBLczKk"
      },
      "source": [
        "### Model with (3 x 3) Convolution with Pooling (2 x 2) "
      ]
    },
    {
      "cell_type": "code",
      "metadata": {
        "trusted": true,
        "id": "-qOGWya1czKl",
        "colab": {
          "base_uri": "https://localhost:8080/"
        },
        "outputId": "ba387b6f-e0d1-45f8-de31-a37c6d5b7c19"
      },
      "source": [
        "start = timeit.default_timer()   \n",
        "model = Sequential()\n",
        "model.add(Conv2D(8, kernel_size=(3, 3), activation='relu', input_shape=input_shape))\n",
        "model.add(MaxPooling2D(pool_size=(2, 2)))\n",
        "model.add(Conv2D(16, (3, 3), activation='relu'))\n",
        "model.add(MaxPooling2D(pool_size=(2, 2)))\n",
        "model.add(Flatten())\n",
        "model.add(Dense(32, activation='relu'))\n",
        "model.add(Dense(num_classes, activation='softmax'))\n",
        "model.summary()\n",
        "model.compile(loss=keras.losses.categorical_crossentropy, optimizer=keras.optimizers.Adadelta(), metrics=['accuracy'])\n",
        "model.fit(x_train, y_train, batch_size=batch_size, epochs=epochs, verbose=1, validation_data=(x_test, y_test))\n",
        "end = timeit.default_timer()\n",
        "print(\"Time Taken to run the model:\",end - start, \"seconds\")  "
      ],
      "execution_count": 21,
      "outputs": [
        {
          "output_type": "stream",
          "text": [
            "Model: \"sequential_11\"\n",
            "_________________________________________________________________\n",
            "Layer (type)                 Output Shape              Param #   \n",
            "=================================================================\n",
            "conv2d_20 (Conv2D)           (None, 26, 26, 8)         80        \n",
            "_________________________________________________________________\n",
            "max_pooling2d_2 (MaxPooling2 (None, 13, 13, 8)         0         \n",
            "_________________________________________________________________\n",
            "conv2d_21 (Conv2D)           (None, 11, 11, 16)        1168      \n",
            "_________________________________________________________________\n",
            "max_pooling2d_3 (MaxPooling2 (None, 5, 5, 16)          0         \n",
            "_________________________________________________________________\n",
            "flatten_9 (Flatten)          (None, 400)               0         \n",
            "_________________________________________________________________\n",
            "dense_18 (Dense)             (None, 32)                12832     \n",
            "_________________________________________________________________\n",
            "dense_19 (Dense)             (None, 10)                330       \n",
            "=================================================================\n",
            "Total params: 14,410\n",
            "Trainable params: 14,410\n",
            "Non-trainable params: 0\n",
            "_________________________________________________________________\n",
            "Epoch 1/2\n",
            "469/469 [==============================] - 19s 39ms/step - loss: 2.3736 - accuracy: 0.0642 - val_loss: 2.3558 - val_accuracy: 0.0680\n",
            "Epoch 2/2\n",
            "469/469 [==============================] - 19s 41ms/step - loss: 2.3491 - accuracy: 0.0801 - val_loss: 2.3335 - val_accuracy: 0.0892\n",
            "Time Taken to run the model: 38.30679616799989 seconds\n"
          ],
          "name": "stdout"
        }
      ]
    },
    {
      "cell_type": "markdown",
      "metadata": {
        "id": "BUBHv14oczKp"
      },
      "source": [
        "### Model with (3 x 3) Convolution with Pooling (3 x 3) "
      ]
    },
    {
      "cell_type": "code",
      "metadata": {
        "trusted": true,
        "id": "z3iYWjRDczKr",
        "colab": {
          "base_uri": "https://localhost:8080/"
        },
        "outputId": "7faa9672-8d0a-44fe-e56e-9f60a7a8c129"
      },
      "source": [
        "# Write your code here \n",
        "\n",
        "# Use the same model design from the above cell \n",
        "\n",
        "start = timeit.default_timer()   \n",
        "model = Sequential()\n",
        "model.add(Conv2D(8, kernel_size=(3, 3), activation='relu', input_shape=input_shape))\n",
        "model.add(MaxPooling2D(pool_size=(3, 3)))\n",
        "model.add(Conv2D(16, (3, 3), activation='relu'))\n",
        "model.add(MaxPooling2D(pool_size=(3, 3)))\n",
        "model.add(Flatten())\n",
        "model.add(Dense(32, activation='relu'))\n",
        "model.add(Dense(num_classes, activation='softmax'))\n",
        "model.summary()\n",
        "model.compile(loss=keras.losses.categorical_crossentropy, optimizer=keras.optimizers.Adadelta(), metrics=['accuracy'])\n",
        "model.fit(x_train, y_train, batch_size=batch_size, epochs=epochs, verbose=1, validation_data=(x_test, y_test))\n",
        "end = timeit.default_timer()\n",
        "print(\"Time Taken to run the model:\",end - start, \"seconds\")  "
      ],
      "execution_count": 22,
      "outputs": [
        {
          "output_type": "stream",
          "text": [
            "Model: \"sequential_12\"\n",
            "_________________________________________________________________\n",
            "Layer (type)                 Output Shape              Param #   \n",
            "=================================================================\n",
            "conv2d_22 (Conv2D)           (None, 26, 26, 8)         80        \n",
            "_________________________________________________________________\n",
            "max_pooling2d_4 (MaxPooling2 (None, 8, 8, 8)           0         \n",
            "_________________________________________________________________\n",
            "conv2d_23 (Conv2D)           (None, 6, 6, 16)          1168      \n",
            "_________________________________________________________________\n",
            "max_pooling2d_5 (MaxPooling2 (None, 2, 2, 16)          0         \n",
            "_________________________________________________________________\n",
            "flatten_10 (Flatten)         (None, 64)                0         \n",
            "_________________________________________________________________\n",
            "dense_20 (Dense)             (None, 32)                2080      \n",
            "_________________________________________________________________\n",
            "dense_21 (Dense)             (None, 10)                330       \n",
            "=================================================================\n",
            "Total params: 3,658\n",
            "Trainable params: 3,658\n",
            "Non-trainable params: 0\n",
            "_________________________________________________________________\n",
            "Epoch 1/2\n",
            "469/469 [==============================] - 15s 31ms/step - loss: 2.3560 - accuracy: 0.0824 - val_loss: 2.3512 - val_accuracy: 0.0840\n",
            "Epoch 2/2\n",
            "469/469 [==============================] - 15s 31ms/step - loss: 2.3484 - accuracy: 0.0819 - val_loss: 2.3441 - val_accuracy: 0.0825\n",
            "Time Taken to run the model: 29.828025159999925 seconds\n"
          ],
          "name": "stdout"
        }
      ]
    },
    {
      "cell_type": "code",
      "metadata": {
        "id": "4fsnp2wMpfTP",
        "colab": {
          "base_uri": "https://localhost:8080/"
        },
        "outputId": "dd870c34-146e-43e3-bf68-c60f5b035c13"
      },
      "source": [
        "# Write your code here \r\n",
        "#Model with (3 x 3) Convolution with Pooling (4 x 4)\r\n",
        "# Use the same model design from the above cell \r\n",
        "start = timeit.default_timer()   \r\n",
        "model = Sequential()\r\n",
        "model.add(Conv2D(8, kernel_size=(3, 3), activation='relu', input_shape=input_shape))\r\n",
        "model.add(MaxPooling2D(pool_size=(4, 4)))\r\n",
        "model.add(Conv2D(16, (3, 3), activation='relu'))\r\n",
        "model.add(MaxPooling2D(pool_size=(4, 4)))\r\n",
        "model.add(Flatten())\r\n",
        "model.add(Dense(32, activation='relu'))\r\n",
        "model.add(Dense(num_classes, activation='softmax'))\r\n",
        "model.summary()\r\n",
        "model.compile(loss=keras.losses.categorical_crossentropy, optimizer=keras.optimizers.Adadelta(), metrics=['accuracy'])\r\n",
        "model.fit(x_train, y_train, batch_size=batch_size, epochs=epochs, verbose=1, validation_data=(x_test, y_test))\r\n",
        "end = timeit.default_timer()\r\n",
        "print(\"Time Taken to run the model:\",end - start, \"seconds\")  "
      ],
      "execution_count": 25,
      "outputs": [
        {
          "output_type": "stream",
          "text": [
            "Model: \"sequential_14\"\n",
            "_________________________________________________________________\n",
            "Layer (type)                 Output Shape              Param #   \n",
            "=================================================================\n",
            "conv2d_26 (Conv2D)           (None, 26, 26, 8)         80        \n",
            "_________________________________________________________________\n",
            "max_pooling2d_8 (MaxPooling2 (None, 6, 6, 8)           0         \n",
            "_________________________________________________________________\n",
            "conv2d_27 (Conv2D)           (None, 4, 4, 16)          1168      \n",
            "_________________________________________________________________\n",
            "max_pooling2d_9 (MaxPooling2 (None, 1, 1, 16)          0         \n",
            "_________________________________________________________________\n",
            "flatten_12 (Flatten)         (None, 16)                0         \n",
            "_________________________________________________________________\n",
            "dense_24 (Dense)             (None, 32)                544       \n",
            "_________________________________________________________________\n",
            "dense_25 (Dense)             (None, 10)                330       \n",
            "=================================================================\n",
            "Total params: 2,122\n",
            "Trainable params: 2,122\n",
            "Non-trainable params: 0\n",
            "_________________________________________________________________\n",
            "Epoch 1/2\n",
            "469/469 [==============================] - 14s 30ms/step - loss: 2.3018 - accuracy: 0.1342 - val_loss: 2.3001 - val_accuracy: 0.1401\n",
            "Epoch 2/2\n",
            "469/469 [==============================] - 14s 29ms/step - loss: 2.3013 - accuracy: 0.1379 - val_loss: 2.2991 - val_accuracy: 0.1454\n",
            "Time Taken to run the model: 28.16779289399983 seconds\n"
          ],
          "name": "stdout"
        }
      ]
    },
    {
      "cell_type": "markdown",
      "metadata": {
        "id": "GCBC1uTjoGQB"
      },
      "source": [
        "### Write your findings about influence of pooling here?\r\n",
        "1.   Increasing pooling size decreased learnable parameter number and training time.  \r\n",
        "2.   4x4 pooling size has the best validation accuracy compared to other sizes but this model has a less learnable parameter. If we increase training epochs I think 2x2 filter will perform better\r\n",
        "\r\n"
      ]
    }
  ]
}