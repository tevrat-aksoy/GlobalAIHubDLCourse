{
  "nbformat": 4,
  "nbformat_minor": 0,
  "metadata": {
    "colab": {
      "name": "Homework_2.ipynb",
      "provenance": [],
      "collapsed_sections": [
        "kAFwGJ6qmSNI"
      ],
      "include_colab_link": true
    },
    "kernelspec": {
      "name": "python3",
      "display_name": "Python 3"
    },
    "accelerator": "GPU"
  },
  "cells": [
    {
      "cell_type": "markdown",
      "metadata": {
        "id": "view-in-github",
        "colab_type": "text"
      },
      "source": [
        "<a href=\"https://colab.research.google.com/github/tevrat-aksoy/GlobalAIHubDLCourse/blob/main/Homeworks/Homework_2.ipynb\" target=\"_parent\"><img src=\"https://colab.research.google.com/assets/colab-badge.svg\" alt=\"Open In Colab\"/></a>"
      ]
    },
    {
      "cell_type": "markdown",
      "metadata": {
        "id": "b_DqblN4mSJl"
      },
      "source": [
        "### Importing libraries"
      ]
    },
    {
      "cell_type": "code",
      "metadata": {
        "trusted": true,
        "id": "6c4cAGtKmSJq"
      },
      "source": [
        "import warnings\n",
        "warnings.filterwarnings('ignore')\n",
        "\n",
        "import numpy as np\n",
        "import matplotlib.pyplot as plt\n",
        "import keras\n",
        "from keras.datasets import mnist\n",
        "from keras.models import Sequential,model_from_json\n",
        "from keras.layers import Dense\n",
        "from keras.optimizers import RMSprop\n",
        "import pylab as plt"
      ],
      "execution_count": 19,
      "outputs": []
    },
    {
      "cell_type": "markdown",
      "metadata": {
        "id": "etMXuztNmSJ7"
      },
      "source": [
        "#### Keras is the deep learning library that helps you to code Deep Neural Networks with fewer lines of code "
      ]
    },
    {
      "cell_type": "markdown",
      "metadata": {
        "id": "Lh3WaWY3mSJ-"
      },
      "source": [
        "### Import data"
      ]
    },
    {
      "cell_type": "code",
      "metadata": {
        "trusted": true,
        "id": "Ii7ouzosmSJ_",
        "colab": {
          "base_uri": "https://localhost:8080/"
        },
        "outputId": "d68b0bb2-20a7-434c-a71a-477d725ef080"
      },
      "source": [
        "batch_size = 128\n",
        "num_classes = 10\n",
        "epochs = 2\n",
        "\n",
        "# the data, split between train and test sets\n",
        "(x_train, y_train), (x_test, y_test) = mnist.load_data()\n",
        "\n",
        "x_train = x_train.reshape(60000, 784)\n",
        "x_test = x_test.reshape(10000, 784)\n",
        "x_train = x_train.astype('float32')\n",
        "x_test = x_test.astype('float32')\n",
        "\n",
        "# Normalize to 0 to 1 range\n",
        "x_train /= 255\n",
        "x_test /= 255\n",
        "\n",
        "print(x_train.shape[0], 'train samples')\n",
        "print(x_test.shape[0], 'test samples')\n",
        "# convert class vectors to binary class matrices\n",
        "y_train = keras.utils.to_categorical(y_train, num_classes)\n",
        "y_test = keras.utils.to_categorical(y_test, num_classes)"
      ],
      "execution_count": 20,
      "outputs": [
        {
          "output_type": "stream",
          "text": [
            "60000 train samples\n",
            "10000 test samples\n"
          ],
          "name": "stdout"
        }
      ]
    },
    {
      "cell_type": "markdown",
      "metadata": {
        "id": "lDfAYp5xmSMt"
      },
      "source": [
        "# Part 1: Analysis of Activation Functions\r\n"
      ]
    },
    {
      "cell_type": "markdown",
      "metadata": {
        "id": "uuTttTdrmSNK"
      },
      "source": [
        "### Try other Activation Functions\n",
        "Analyze the accuracy and training time\n",
        "#### Example Syntax \n",
        "* model.add(Dense(8, activation='tanh'))\n",
        "* model.add(Dense(8, activation='linear'))\n",
        "* model.add(Dense(8, activation='relu'))\n",
        "* model.add(Dense(8, activation='hard_sigmoid'))"
      ]
    },
    {
      "cell_type": "markdown",
      "metadata": {
        "id": "Sis7i5TdmSMx"
      },
      "source": [
        "### Sigmoid Activation Function"
      ]
    },
    {
      "cell_type": "code",
      "metadata": {
        "trusted": true,
        "id": "OyZSlWeemSM0",
        "colab": {
          "base_uri": "https://localhost:8080/"
        },
        "outputId": "81b4d0c0-779a-40ed-d15f-5ca5f107f05f"
      },
      "source": [
        "import time\n",
        "t = time.time()\n",
        "\n",
        "model = Sequential()\n",
        "model.add(Dense(64, activation='sigmoid', input_shape=(784,)))\n",
        "model.add(Dense(64, activation='sigmoid'))\n",
        "model.add(Dense(num_classes, activation='softmax'))\n",
        "\n",
        "model.summary()\n",
        "model.compile(loss='categorical_crossentropy',\n",
        "              optimizer=RMSprop(),\n",
        "              metrics=['accuracy'])\n",
        "\n",
        "history = model.fit(x_train, y_train,\n",
        "                    batch_size=batch_size,\n",
        "                    epochs=10,\n",
        "                    verbose=1,\n",
        "                    validation_data=(x_test, y_test))\n",
        "score = model.evaluate(x_test, y_test, verbose=0)\n",
        "print('Test loss:', score[0])\n",
        "print('Test accuracy:', score[1])\n",
        "# do stuff\n",
        "elapsed = time.time() - t\n",
        "print(\"elapsed time: \", elapsed)"
      ],
      "execution_count": 21,
      "outputs": [
        {
          "output_type": "stream",
          "text": [
            "Model: \"sequential_14\"\n",
            "_________________________________________________________________\n",
            "Layer (type)                 Output Shape              Param #   \n",
            "=================================================================\n",
            "dense_48 (Dense)             (None, 64)                50240     \n",
            "_________________________________________________________________\n",
            "dense_49 (Dense)             (None, 64)                4160      \n",
            "_________________________________________________________________\n",
            "dense_50 (Dense)             (None, 10)                650       \n",
            "=================================================================\n",
            "Total params: 55,050\n",
            "Trainable params: 55,050\n",
            "Non-trainable params: 0\n",
            "_________________________________________________________________\n",
            "Epoch 1/10\n",
            "469/469 [==============================] - 2s 3ms/step - loss: 1.3935 - accuracy: 0.6632 - val_loss: 0.3526 - val_accuracy: 0.9011\n",
            "Epoch 2/10\n",
            "469/469 [==============================] - 1s 3ms/step - loss: 0.3169 - accuracy: 0.9119 - val_loss: 0.2421 - val_accuracy: 0.9286\n",
            "Epoch 3/10\n",
            "469/469 [==============================] - 1s 3ms/step - loss: 0.2322 - accuracy: 0.9321 - val_loss: 0.1967 - val_accuracy: 0.9412\n",
            "Epoch 4/10\n",
            "469/469 [==============================] - 1s 3ms/step - loss: 0.1859 - accuracy: 0.9463 - val_loss: 0.1689 - val_accuracy: 0.9495\n",
            "Epoch 5/10\n",
            "469/469 [==============================] - 1s 3ms/step - loss: 0.1552 - accuracy: 0.9540 - val_loss: 0.1489 - val_accuracy: 0.9555\n",
            "Epoch 6/10\n",
            "469/469 [==============================] - 1s 3ms/step - loss: 0.1387 - accuracy: 0.9600 - val_loss: 0.1405 - val_accuracy: 0.9581\n",
            "Epoch 7/10\n",
            "469/469 [==============================] - 1s 3ms/step - loss: 0.1211 - accuracy: 0.9646 - val_loss: 0.1256 - val_accuracy: 0.9622\n",
            "Epoch 8/10\n",
            "469/469 [==============================] - 1s 3ms/step - loss: 0.1086 - accuracy: 0.9686 - val_loss: 0.1179 - val_accuracy: 0.9638\n",
            "Epoch 9/10\n",
            "469/469 [==============================] - 1s 3ms/step - loss: 0.1017 - accuracy: 0.9707 - val_loss: 0.1104 - val_accuracy: 0.9670\n",
            "Epoch 10/10\n",
            "469/469 [==============================] - 1s 3ms/step - loss: 0.0875 - accuracy: 0.9746 - val_loss: 0.1044 - val_accuracy: 0.9685\n",
            "Test loss: 0.10444963723421097\n",
            "Test accuracy: 0.968500018119812\n",
            "elapsed time:  13.5238778591156\n"
          ],
          "name": "stdout"
        }
      ]
    },
    {
      "cell_type": "markdown",
      "metadata": {
        "id": "GgzqbxsxmSM_"
      },
      "source": [
        "### Relu Activation Function"
      ]
    },
    {
      "cell_type": "code",
      "metadata": {
        "id": "jUmk4D1386LQ",
        "colab": {
          "base_uri": "https://localhost:8080/"
        },
        "outputId": "1e126842-189c-43ee-efbc-b61fc0a4ab0a"
      },
      "source": [
        "# Write your code here. Use the same architecture as above.\r\n",
        "t = time.time()\r\n",
        "\r\n",
        "model = Sequential()\r\n",
        "model.add(Dense(64, activation='relu', input_shape=(784,)))\r\n",
        "model.add(Dense(64, activation='relu'))\r\n",
        "model.add(Dense(num_classes, activation='softmax'))\r\n",
        "\r\n",
        "model.summary()\r\n",
        "model.compile(loss='categorical_crossentropy',\r\n",
        "              optimizer=RMSprop(),\r\n",
        "              metrics=['accuracy'])\r\n",
        "\r\n",
        "history = model.fit(x_train, y_train,\r\n",
        "                    batch_size=batch_size,\r\n",
        "                    epochs=10,\r\n",
        "                    verbose=1,\r\n",
        "                    validation_data=(x_test, y_test))\r\n",
        "score = model.evaluate(x_test, y_test, verbose=0)\r\n",
        "print('Test loss:', score[0])\r\n",
        "print('Test accuracy:', score[1])\r\n",
        "elapsed = time.time() - t\r\n",
        "print(\"elapsed time: \", elapsed)\r\n",
        " "
      ],
      "execution_count": 22,
      "outputs": [
        {
          "output_type": "stream",
          "text": [
            "Model: \"sequential_15\"\n",
            "_________________________________________________________________\n",
            "Layer (type)                 Output Shape              Param #   \n",
            "=================================================================\n",
            "dense_51 (Dense)             (None, 64)                50240     \n",
            "_________________________________________________________________\n",
            "dense_52 (Dense)             (None, 64)                4160      \n",
            "_________________________________________________________________\n",
            "dense_53 (Dense)             (None, 10)                650       \n",
            "=================================================================\n",
            "Total params: 55,050\n",
            "Trainable params: 55,050\n",
            "Non-trainable params: 0\n",
            "_________________________________________________________________\n",
            "Epoch 1/10\n",
            "469/469 [==============================] - 2s 3ms/step - loss: 0.6462 - accuracy: 0.8216 - val_loss: 0.2108 - val_accuracy: 0.9357\n",
            "Epoch 2/10\n",
            "469/469 [==============================] - 1s 3ms/step - loss: 0.1798 - accuracy: 0.9473 - val_loss: 0.1325 - val_accuracy: 0.9593\n",
            "Epoch 3/10\n",
            "469/469 [==============================] - 1s 3ms/step - loss: 0.1273 - accuracy: 0.9626 - val_loss: 0.1232 - val_accuracy: 0.9634\n",
            "Epoch 4/10\n",
            "469/469 [==============================] - 1s 3ms/step - loss: 0.1017 - accuracy: 0.9699 - val_loss: 0.0989 - val_accuracy: 0.9679\n",
            "Epoch 5/10\n",
            "469/469 [==============================] - 1s 3ms/step - loss: 0.0812 - accuracy: 0.9757 - val_loss: 0.0948 - val_accuracy: 0.9715\n",
            "Epoch 6/10\n",
            "469/469 [==============================] - 1s 3ms/step - loss: 0.0683 - accuracy: 0.9791 - val_loss: 0.0925 - val_accuracy: 0.9715\n",
            "Epoch 7/10\n",
            "469/469 [==============================] - 1s 3ms/step - loss: 0.0581 - accuracy: 0.9820 - val_loss: 0.0988 - val_accuracy: 0.9697\n",
            "Epoch 8/10\n",
            "469/469 [==============================] - 1s 3ms/step - loss: 0.0509 - accuracy: 0.9848 - val_loss: 0.1028 - val_accuracy: 0.9698\n",
            "Epoch 9/10\n",
            "469/469 [==============================] - 1s 3ms/step - loss: 0.0438 - accuracy: 0.9864 - val_loss: 0.0825 - val_accuracy: 0.9741\n",
            "Epoch 10/10\n",
            "469/469 [==============================] - 1s 3ms/step - loss: 0.0405 - accuracy: 0.9878 - val_loss: 0.0829 - val_accuracy: 0.9747\n",
            "Test loss: 0.08287391066551208\n",
            "Test accuracy: 0.9746999740600586\n",
            "elapsed time:  13.58879828453064\n"
          ],
          "name": "stdout"
        }
      ]
    },
    {
      "cell_type": "code",
      "metadata": {
        "id": "UlW4c93LUPjx"
      },
      "source": [
        ""
      ],
      "execution_count": 22,
      "outputs": []
    },
    {
      "cell_type": "markdown",
      "metadata": {
        "id": "kAFwGJ6qmSNI"
      },
      "source": [
        "### Write your findings about activations here?\r\n",
        "\r\n",
        "1.   Using \"Relu\" and \"Sigmoid\" activation functions increased test accuracy compared to others. Training is faster for  \"Linear\" and \"Sigmoid\" activation functions compared to others.\r\n",
        "None of models have an overfitting problem.\r\n",
        "\r\n",
        "\r\n",
        "Sigmoid  :Test loss: 0.10588689148426056   --   Test accuracy: 0.9659000039100647\r\n",
        "\r\n",
        "Relu     : Test loss: 0.08892232179641724   --  Test accuracy: 0.9735000133514404\r\n",
        "\r\n",
        "Tanh     : Test loss: 0.08468958735466003   --  Test accuracy: 0.9735999703407288\r\n",
        "\r\n",
        "\r\n",
        "\r\n",
        "\r\n",
        "2.   \"Linear\" activation function reached 0.92 test accuracy and compared to other activation function this model seem to underfit the data\r\n",
        "\r\n",
        "\r\n"
      ]
    },
    {
      "cell_type": "markdown",
      "metadata": {
        "id": "92WOKBj7mSNO"
      },
      "source": [
        "# Part 2: Design Choices: Nodes\r\n",
        "#### Analyze the parameter size, accuracy and training time"
      ]
    },
    {
      "cell_type": "markdown",
      "metadata": {
        "id": "iWMaAtL1_P8s"
      },
      "source": [
        "### Design a model with small Number of Nodes. For Example 8"
      ]
    },
    {
      "cell_type": "code",
      "metadata": {
        "trusted": true,
        "id": "4wsQdORcmSNP",
        "colab": {
          "base_uri": "https://localhost:8080/",
          "height": 514
        },
        "outputId": "22f6d08e-9cb2-4817-cea1-5725a7314be0"
      },
      "source": [
        "first_layer_size = 8\n",
        "\n",
        "model = Sequential()\n",
        "model.add(Dense(first_layer_size, activation='sigmoid', input_shape=(784,)))\n",
        "model.add(Dense(32, activation='sigmoid'))\n",
        "model.add(Dense(num_classes, activation='softmax'))\n",
        "\n",
        "model.summary()\n",
        "model.compile(loss='categorical_crossentropy',\n",
        "              optimizer=RMSprop(),\n",
        "              metrics=['accuracy'])\n",
        "\n",
        "history = model.fit(x_train, y_train,\n",
        "                    batch_size=batch_size,\n",
        "                    epochs=epochs,\n",
        "                    verbose=1,\n",
        "                    validation_data=(x_test, y_test))\n",
        "score = model.evaluate(x_test, y_test, verbose=0)\n",
        "print('Test loss:', score[0])\n",
        "print('Test accuracy:', score[1])\n",
        "\n",
        "w = []\n",
        "for layer in model.layers:\n",
        "    weights = layer.get_weights()\n",
        "    w.append(weights)\n",
        "\n",
        "layer1 = np.array(w[0][0])\n",
        "print(\"Shape of First Layer\",layer1.shape)\n",
        "print(\"Visualization of First Layer\")\n",
        "\n",
        "import matplotlib.pyplot as plt\n",
        "fig=plt.figure(figsize=(16, 16))\n",
        "columns = 8\n",
        "rows = int(first_layer_size/8)\n",
        "for i in range(1, columns*rows +1):\n",
        "    fig.add_subplot(rows, columns, i)\n",
        "    plt.imshow(layer1[:,i-1].reshape(28,28),cmap='gray')\n",
        "plt.show()"
      ],
      "execution_count": 23,
      "outputs": [
        {
          "output_type": "stream",
          "text": [
            "Model: \"sequential_16\"\n",
            "_________________________________________________________________\n",
            "Layer (type)                 Output Shape              Param #   \n",
            "=================================================================\n",
            "dense_54 (Dense)             (None, 8)                 6280      \n",
            "_________________________________________________________________\n",
            "dense_55 (Dense)             (None, 32)                288       \n",
            "_________________________________________________________________\n",
            "dense_56 (Dense)             (None, 10)                330       \n",
            "=================================================================\n",
            "Total params: 6,898\n",
            "Trainable params: 6,898\n",
            "Non-trainable params: 0\n",
            "_________________________________________________________________\n",
            "Epoch 1/2\n",
            "469/469 [==============================] - 2s 3ms/step - loss: 2.1146 - accuracy: 0.3731 - val_loss: 1.3697 - val_accuracy: 0.7417\n",
            "Epoch 2/2\n",
            "469/469 [==============================] - 1s 3ms/step - loss: 1.1814 - accuracy: 0.7705 - val_loss: 0.7681 - val_accuracy: 0.8333\n",
            "Test loss: 0.7680913805961609\n",
            "Test accuracy: 0.833299994468689\n",
            "Shape of First Layer (784, 8)\n",
            "Visualization of First Layer\n"
          ],
          "name": "stdout"
        },
        {
          "output_type": "display_data",
          "data": {
            "image/png": "[encoded data removed]",
            "text/plain": [
              "<Figure size 1152x1152 with 8 Axes>"
            ]
          },
          "metadata": {
            "tags": [],
            "needs_background": "light"
          }
        }
      ]
    },
    {
      "cell_type": "markdown",
      "metadata": {
        "id": "SYnMb7ICmSNV"
      },
      "source": [
        "### Design a model with large Number of Nodes. For example 128"
      ]
    },
    {
      "cell_type": "code",
      "metadata": {
        "trusted": true,
        "id": "apTlIl_lmSNX"
      },
      "source": [
        "# Write your code here \n",
        "\n",
        "# Use the same layer design from the above cell. Play with the parameter \"first_layer_size\" above. \n",
        "# It is preferred to have first_layer_size as multiplication of 8 (for visualizing the weights properly)"
      ],
      "execution_count": 24,
      "outputs": []
    },
    {
      "cell_type": "code",
      "metadata": {
        "id": "OM2a6t5O9Ty4",
        "colab": {
          "base_uri": "https://localhost:8080/",
          "height": 403
        },
        "outputId": "39786c32-09f8-4b7f-8c28-9b6a34352e45"
      },
      "source": [
        "first_layer_size = 1024*8*2\r\n",
        "\r\n",
        "model = Sequential()\r\n",
        "model.add(Dense(first_layer_size, activation='sigmoid', input_shape=(784,)))\r\n",
        "model.add(Dense(32, activation='sigmoid'))\r\n",
        "model.add(Dense(num_classes, activation='softmax'))\r\n",
        "\r\n",
        "model.summary()\r\n",
        "model.compile(loss='categorical_crossentropy',\r\n",
        "              optimizer=RMSprop(),\r\n",
        "              metrics=['accuracy'])\r\n",
        "\r\n",
        "history = model.fit(x_train, y_train,\r\n",
        "                    batch_size=batch_size,\r\n",
        "                    epochs=epochs,\r\n",
        "                    verbose=1,\r\n",
        "                    validation_data=(x_test, y_test))\r\n",
        "score = model.evaluate(x_test, y_test, verbose=0)\r\n",
        "print('Test loss:', score[0])\r\n",
        "print('Test accuracy:', score[1])\r\n",
        "\r\n",
        "w = []\r\n",
        "for layer in model.layers:\r\n",
        "    weights = layer.get_weights()\r\n",
        "    w.append(weights)\r\n",
        "\r\n",
        "layer1 = np.array(w[0][0])\r\n",
        "print(\"Shape of First Layer\",layer1.shape)\r\n",
        "print(\"Visualization of First Layer\")\r\n",
        "\r\n",
        "import matplotlib.pyplot as plt\r\n",
        "fig=plt.figure(figsize=(16, 16))\r\n",
        "columns = 8\r\n",
        "rows = int(first_layer_size/8)\r\n",
        "\r\n"
      ],
      "execution_count": 25,
      "outputs": [
        {
          "output_type": "stream",
          "text": [
            "Model: \"sequential_17\"\n",
            "_________________________________________________________________\n",
            "Layer (type)                 Output Shape              Param #   \n",
            "=================================================================\n",
            "dense_57 (Dense)             (None, 16384)             12861440  \n",
            "_________________________________________________________________\n",
            "dense_58 (Dense)             (None, 32)                524320    \n",
            "_________________________________________________________________\n",
            "dense_59 (Dense)             (None, 10)                330       \n",
            "=================================================================\n",
            "Total params: 13,386,090\n",
            "Trainable params: 13,386,090\n",
            "Non-trainable params: 0\n",
            "_________________________________________________________________\n",
            "Epoch 1/2\n",
            "469/469 [==============================] - 3s 6ms/step - loss: 2.3472 - accuracy: 0.0992 - val_loss: 2.3018 - val_accuracy: 0.1135\n",
            "Epoch 2/2\n",
            "469/469 [==============================] - 3s 6ms/step - loss: 2.3019 - accuracy: 0.1120 - val_loss: 2.3021 - val_accuracy: 0.1135\n",
            "Test loss: 2.3021020889282227\n",
            "Test accuracy: 0.11349999904632568\n",
            "Shape of First Layer (784, 16384)\n",
            "Visualization of First Layer\n"
          ],
          "name": "stdout"
        },
        {
          "output_type": "display_data",
          "data": {
            "text/plain": [
              "<Figure size 1152x1152 with 0 Axes>"
            ]
          },
          "metadata": {
            "tags": []
          }
        }
      ]
    },
    {
      "cell_type": "markdown",
      "metadata": {
        "id": "xkCLEeEs-BKy"
      },
      "source": [
        "### Write your findings about influence of nodes here?\r\n",
        "\r\n",
        "1.   first_layer_size = 128  => Model test accuracy increased to 0.935.Learnable parameter number also increased and model learned different features.\r\n",
        "Model accuracy increased until first_layer_size equals 8192 and reached 0.952 \r\n",
        "\r\n",
        "2.   After first_layer_size increased more than 8192 model accuracy decreased which indicates overfitting\r\n",
        "\r\n",
        "\r\n"
      ]
    },
    {
      "cell_type": "markdown",
      "metadata": {
        "id": "N4YS7NGQmSNf"
      },
      "source": [
        "# Part 3: Design Choices: Layers\r\n",
        "#### Analyze the parameter size, accuracy and training time"
      ]
    },
    {
      "cell_type": "markdown",
      "metadata": {
        "id": "dcBsESX-_bnL"
      },
      "source": [
        "### Design a model with small number of layers. For example 1 hidden layer"
      ]
    },
    {
      "cell_type": "code",
      "metadata": {
        "trusted": true,
        "id": "Bj0JrdLNmSNh",
        "colab": {
          "base_uri": "https://localhost:8080/"
        },
        "outputId": "667b3588-5f3d-4a7b-8493-280f31f06279"
      },
      "source": [
        "model = Sequential()\n",
        "model.add(Dense(32, activation='relu', input_shape=(784,)))\n",
        "model.add(Dense(num_classes, activation='softmax'))\n",
        "\n",
        "model.summary()\n",
        "model.compile(loss='categorical_crossentropy',\n",
        "              optimizer=RMSprop(),\n",
        "              metrics=['accuracy'])\n",
        "\n",
        "history = model.fit(x_train, y_train,\n",
        "                    batch_size=batch_size,\n",
        "                    epochs=10,\n",
        "                    verbose=1,\n",
        "                    validation_data=(x_test, y_test))\n",
        "score = model.evaluate(x_test, y_test, verbose=0)\n",
        "print('Test loss:', score[0])\n",
        "print('Test accuracy:', score[1])"
      ],
      "execution_count": 26,
      "outputs": [
        {
          "output_type": "stream",
          "text": [
            "Model: \"sequential_18\"\n",
            "_________________________________________________________________\n",
            "Layer (type)                 Output Shape              Param #   \n",
            "=================================================================\n",
            "dense_60 (Dense)             (None, 32)                25120     \n",
            "_________________________________________________________________\n",
            "dense_61 (Dense)             (None, 10)                330       \n",
            "=================================================================\n",
            "Total params: 25,450\n",
            "Trainable params: 25,450\n",
            "Non-trainable params: 0\n",
            "_________________________________________________________________\n",
            "Epoch 1/10\n",
            "469/469 [==============================] - 2s 3ms/step - loss: 0.7698 - accuracy: 0.7984 - val_loss: 0.2738 - val_accuracy: 0.9229\n",
            "Epoch 2/10\n",
            "469/469 [==============================] - 1s 2ms/step - loss: 0.2638 - accuracy: 0.9253 - val_loss: 0.2241 - val_accuracy: 0.9365\n",
            "Epoch 3/10\n",
            "469/469 [==============================] - 1s 3ms/step - loss: 0.2183 - accuracy: 0.9392 - val_loss: 0.1893 - val_accuracy: 0.9462\n",
            "Epoch 4/10\n",
            "469/469 [==============================] - 1s 3ms/step - loss: 0.1851 - accuracy: 0.9475 - val_loss: 0.1732 - val_accuracy: 0.9480\n",
            "Epoch 5/10\n",
            "469/469 [==============================] - 1s 3ms/step - loss: 0.1658 - accuracy: 0.9533 - val_loss: 0.1566 - val_accuracy: 0.9527\n",
            "Epoch 6/10\n",
            "469/469 [==============================] - 1s 3ms/step - loss: 0.1423 - accuracy: 0.9601 - val_loss: 0.1481 - val_accuracy: 0.9563\n",
            "Epoch 7/10\n",
            "469/469 [==============================] - 1s 3ms/step - loss: 0.1314 - accuracy: 0.9622 - val_loss: 0.1435 - val_accuracy: 0.9594\n",
            "Epoch 8/10\n",
            "469/469 [==============================] - 1s 3ms/step - loss: 0.1219 - accuracy: 0.9651 - val_loss: 0.1344 - val_accuracy: 0.9611\n",
            "Epoch 9/10\n",
            "469/469 [==============================] - 1s 3ms/step - loss: 0.1152 - accuracy: 0.9673 - val_loss: 0.1338 - val_accuracy: 0.9616\n",
            "Epoch 10/10\n",
            "469/469 [==============================] - 1s 2ms/step - loss: 0.1038 - accuracy: 0.9702 - val_loss: 0.1260 - val_accuracy: 0.9640\n",
            "Test loss: 0.12600825726985931\n",
            "Test accuracy: 0.9639999866485596\n"
          ],
          "name": "stdout"
        }
      ]
    },
    {
      "cell_type": "markdown",
      "metadata": {
        "id": "6or7gQTXmSNv"
      },
      "source": [
        "### Lower number of Layers. For example 4 hidden layers"
      ]
    },
    {
      "cell_type": "code",
      "metadata": {
        "trusted": true,
        "id": "PkJLwCMumSNx"
      },
      "source": [
        "# Write your code here \n",
        "\n",
        "# Use the same number of units from the above cell "
      ],
      "execution_count": 27,
      "outputs": []
    },
    {
      "cell_type": "code",
      "metadata": {
        "id": "SZmhNqf40XRl",
        "colab": {
          "base_uri": "https://localhost:8080/"
        },
        "outputId": "9ca79082-c818-45b6-f8b5-53cefdaec22b"
      },
      "source": [
        "t = time.time()\r\n",
        "\r\n",
        "model = Sequential()\r\n",
        "model.add(Dense(32, activation='relu', input_shape=(784,)))\r\n",
        "model.add(Dense(32, activation='relu'))\r\n",
        "model.add(Dense(32, activation='relu'))\r\n",
        "model.add(Dense(32, activation='relu'))\r\n",
        "model.add(Dense(num_classes, activation='softmax'))\r\n",
        "\r\n",
        "model.summary()\r\n",
        "model.compile(loss='categorical_crossentropy',\r\n",
        "              optimizer=RMSprop(),\r\n",
        "              metrics=['accuracy'])\r\n",
        "\r\n",
        "history = model.fit(x_train, y_train,\r\n",
        "                    batch_size=batch_size,\r\n",
        "                    epochs=10,\r\n",
        "                    verbose=1,\r\n",
        "                    validation_data=(x_test, y_test))\r\n",
        "score = model.evaluate(x_test, y_test, verbose=0)\r\n",
        "print('Test loss:', score[0])\r\n",
        "print('Test accuracy:', score[1])\r\n",
        "\r\n",
        "elapsed = time.time() - t\r\n",
        "print(\"elapsed time: \", elapsed)"
      ],
      "execution_count": 29,
      "outputs": [
        {
          "output_type": "stream",
          "text": [
            "Model: \"sequential_20\"\n",
            "_________________________________________________________________\n",
            "Layer (type)                 Output Shape              Param #   \n",
            "=================================================================\n",
            "dense_68 (Dense)             (None, 32)                25120     \n",
            "_________________________________________________________________\n",
            "dense_69 (Dense)             (None, 32)                1056      \n",
            "_________________________________________________________________\n",
            "dense_70 (Dense)             (None, 32)                1056      \n",
            "_________________________________________________________________\n",
            "dense_71 (Dense)             (None, 32)                1056      \n",
            "_________________________________________________________________\n",
            "dense_72 (Dense)             (None, 10)                330       \n",
            "=================================================================\n",
            "Total params: 28,618\n",
            "Trainable params: 28,618\n",
            "Non-trainable params: 0\n",
            "_________________________________________________________________\n",
            "Epoch 1/10\n",
            "469/469 [==============================] - 2s 3ms/step - loss: 0.8546 - accuracy: 0.7390 - val_loss: 0.2361 - val_accuracy: 0.9325\n",
            "Epoch 2/10\n",
            "469/469 [==============================] - 1s 3ms/step - loss: 0.2363 - accuracy: 0.9302 - val_loss: 0.1721 - val_accuracy: 0.9494\n",
            "Epoch 3/10\n",
            "469/469 [==============================] - 1s 3ms/step - loss: 0.1779 - accuracy: 0.9473 - val_loss: 0.1629 - val_accuracy: 0.9490\n",
            "Epoch 4/10\n",
            "469/469 [==============================] - 1s 3ms/step - loss: 0.1422 - accuracy: 0.9562 - val_loss: 0.1352 - val_accuracy: 0.9577\n",
            "Epoch 5/10\n",
            "469/469 [==============================] - 1s 3ms/step - loss: 0.1200 - accuracy: 0.9631 - val_loss: 0.1174 - val_accuracy: 0.9638\n",
            "Epoch 6/10\n",
            "469/469 [==============================] - 1s 3ms/step - loss: 0.1077 - accuracy: 0.9671 - val_loss: 0.1188 - val_accuracy: 0.9638\n",
            "Epoch 7/10\n",
            "469/469 [==============================] - 1s 3ms/step - loss: 0.0985 - accuracy: 0.9696 - val_loss: 0.1200 - val_accuracy: 0.9629\n",
            "Epoch 8/10\n",
            "469/469 [==============================] - 1s 3ms/step - loss: 0.0872 - accuracy: 0.9731 - val_loss: 0.1161 - val_accuracy: 0.9650\n",
            "Epoch 9/10\n",
            "469/469 [==============================] - 1s 3ms/step - loss: 0.0829 - accuracy: 0.9746 - val_loss: 0.1148 - val_accuracy: 0.9665\n",
            "Epoch 10/10\n",
            "469/469 [==============================] - 1s 3ms/step - loss: 0.0766 - accuracy: 0.9760 - val_loss: 0.1076 - val_accuracy: 0.9690\n",
            "Test loss: 0.10758136212825775\n",
            "Test accuracy: 0.968999981880188\n",
            "elapsed time:  15.094531297683716\n"
          ],
          "name": "stdout"
        }
      ]
    },
    {
      "cell_type": "markdown",
      "metadata": {
        "id": "NMJYY9AHAGih"
      },
      "source": [
        "### Write your findings about influence of layers here?\r\n",
        "\r\n",
        "1.   3 hidden layer model increased accuracy to 0.965 and trainig time also increased.\r\n",
        "2.   4 hidden layer model accuracy decreased compared to 3 hidden layer and training time increased. This may have been due to overfitting. If the model depth is increased further test accuracy may decrease because of overfitting."
      ]
    },
    {
      "cell_type": "code",
      "metadata": {
        "id": "IZ243I1fAIUC"
      },
      "source": [
        ""
      ],
      "execution_count": 28,
      "outputs": []
    }
  ]
}