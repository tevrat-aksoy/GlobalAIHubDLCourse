{
  "nbformat": 4,
  "nbformat_minor": 0,
  "metadata": {
    "colab": {
      "name": "Homework_4.ipynb",
      "provenance": [],
      "collapsed_sections": [],
      "include_colab_link": true
    },
    "language_info": {
      "mimetype": "text/x-python",
      "nbconvert_exporter": "python",
      "name": "python",
      "file_extension": ".py",
      "version": "3.5.4",
      "pygments_lexer": "ipython3",
      "codemirror_mode": {
        "version": 3,
        "name": "ipython"
      }
    },
    "kernelspec": {
      "name": "python3",
      "display_name": "Python 3",
      "language": "python"
    }
  },
  "cells": [
    {
      "cell_type": "markdown",
      "metadata": {
        "id": "view-in-github",
        "colab_type": "text"
      },
      "source": [
        "<a href=\"https://colab.research.google.com/github/tevrat-aksoy/GlobalAIHubDLCourse/blob/main/Homeworks/Homework_4.ipynb\" target=\"_parent\"><img src=\"https://colab.research.google.com/assets/colab-badge.svg\" alt=\"Open In Colab\"/></a>"
      ]
    },
    {
      "cell_type": "markdown",
      "metadata": {
        "id": "K64BL-JSibBT"
      },
      "source": [
        "# Design Choices in Recurrent Neural Networks"
      ]
    },
    {
      "cell_type": "markdown",
      "metadata": {
        "id": "9qizsy1_ia__"
      },
      "source": [
        "###  Importing packages"
      ]
    },
    {
      "cell_type": "code",
      "metadata": {
        "trusted": true,
        "id": "SQQBH6fFibAA"
      },
      "source": [
        "import re\n",
        "import numpy as np\n",
        "import pandas as pd \n",
        "\n",
        "from sklearn.feature_extraction.text import CountVectorizer\n",
        "from sklearn.model_selection import train_test_split\n",
        "\n",
        "from keras.preprocessing import sequence\n",
        "from keras.preprocessing.text import Tokenizer\n",
        "from keras.preprocessing.sequence import pad_sequences\n",
        "from keras.models import Sequential\n",
        "from keras.layers import Dense, Embedding, LSTM\n",
        "from keras.datasets import imdb\n",
        "\n",
        "from keras.utils.np_utils import to_categorical\n",
        "\n",
        "import warnings\n",
        "warnings.filterwarnings('ignore')\n",
        "import ssl\n",
        "ssl._create_default_https_context = ssl._create_unverified_context"
      ],
      "execution_count": null,
      "outputs": []
    },
    {
      "cell_type": "markdown",
      "metadata": {
        "id": "iq1zkjoZibAG"
      },
      "source": [
        "### Preparing Dataset"
      ]
    },
    {
      "cell_type": "code",
      "metadata": {
        "trusted": true,
        "id": "4HAT-LWqibAG",
        "colab": {
          "base_uri": "https://localhost:8080/"
        },
        "outputId": "4e209ea4-bec5-43c0-92fe-91b4f2df49d3"
      },
      "source": [
        "max_features = 1000\n",
        "maxlen = 80  # cut texts after this number of words (among top max_features most common words)\n",
        "batch_size = 32\n",
        "\n",
        "# save np.load\n",
        "#np_load_old = np.load\n",
        "\n",
        "# modify the default parameters of np.load\n",
        "#np.load = lambda *a,**k: np_load_old(*a, allow_pickle=True, **k)\n",
        "\n",
        "print('Loading data...')\n",
        "(x_train, y_train), (x_test, y_test) = imdb.load_data(num_words=max_features)\n",
        "print(len(x_train), 'train sequences')\n",
        "print(len(x_test), 'test sequences')\n",
        "\n",
        "#np.load = np_load_old\n",
        "\n",
        "print('Pad sequences (samples x time)')\n",
        "x_train = sequence.pad_sequences(x_train, maxlen=maxlen)\n",
        "x_test = sequence.pad_sequences(x_test, maxlen=maxlen)\n",
        "print('x_train shape:', x_train.shape)\n",
        "print('x_test shape:', x_test.shape)"
      ],
      "execution_count": null,
      "outputs": [
        {
          "output_type": "stream",
          "text": [
            "Loading data...\n",
            "Downloading data from https://storage.googleapis.com/tensorflow/tf-keras-datasets/imdb.npz\n",
            "17465344/17464789 [==============================] - 0s 0us/step\n",
            "25000 train sequences\n",
            "25000 test sequences\n",
            "Pad sequences (samples x time)\n",
            "x_train shape: (25000, 80)\n",
            "x_test shape: (25000, 80)\n"
          ],
          "name": "stdout"
        }
      ]
    },
    {
      "cell_type": "markdown",
      "metadata": {
        "id": "45x9V7tSibBT"
      },
      "source": [
        "## Part 1: Influence of number of nodes\r\n",
        "\r\n",
        "Try the models with different number of nodes such as 32, 64, 128 etc.\r\n",
        "\r\n",
        "Analyze the number of model parameters, accuracy and training time"
      ]
    },
    {
      "cell_type": "markdown",
      "metadata": {
        "id": "jYmu59jHibBU"
      },
      "source": [
        "### LSTM with 8 nodes"
      ]
    },
    {
      "cell_type": "code",
      "metadata": {
        "trusted": true,
        "id": "xBy67aRQibBY",
        "colab": {
          "base_uri": "https://localhost:8080/"
        },
        "outputId": "0cf7718c-0bc5-42c4-cce0-e720b12b3a8c"
      },
      "source": [
        "model = Sequential()\n",
        "model.add(Embedding(max_features, 8))\n",
        "model.add(LSTM(8, dropout=0.0, recurrent_dropout=0.0))\n",
        "model.add(Dense(1, activation='sigmoid'))\n",
        "model.summary()\n",
        "\n",
        "model.compile(loss='binary_crossentropy', optimizer='adam', metrics=['accuracy'])\n",
        "model.fit(x_train, y_train, batch_size=batch_size, epochs=1, validation_data=(x_test, y_test))\n",
        "\n",
        "score, acc = model.evaluate(x_test, y_test, batch_size=batch_size)\n",
        "print('Test score:', score)\n",
        "print('Test accuracy:', acc)"
      ],
      "execution_count": null,
      "outputs": [
        {
          "output_type": "stream",
          "text": [
            "Model: \"sequential\"\n",
            "_________________________________________________________________\n",
            "Layer (type)                 Output Shape              Param #   \n",
            "=================================================================\n",
            "embedding (Embedding)        (None, None, 8)           8000      \n",
            "_________________________________________________________________\n",
            "lstm (LSTM)                  (None, 8)                 544       \n",
            "_________________________________________________________________\n",
            "dense (Dense)                (None, 1)                 9         \n",
            "=================================================================\n",
            "Total params: 8,553\n",
            "Trainable params: 8,553\n",
            "Non-trainable params: 0\n",
            "_________________________________________________________________\n",
            "782/782 [==============================] - 29s 34ms/step - loss: 0.6004 - accuracy: 0.6561 - val_loss: 0.4104 - val_accuracy: 0.8136\n",
            "782/782 [==============================] - 4s 5ms/step - loss: 0.4104 - accuracy: 0.8136\n",
            "Test score: 0.4104079604148865\n",
            "Test accuracy: 0.8135600090026855\n"
          ],
          "name": "stdout"
        }
      ]
    },
    {
      "cell_type": "markdown",
      "metadata": {
        "id": "X9ZD__ogibBb"
      },
      "source": [
        "### LSTM with 16 nodes"
      ]
    },
    {
      "cell_type": "code",
      "metadata": {
        "trusted": true,
        "id": "C5CNadYribBb",
        "colab": {
          "base_uri": "https://localhost:8080/"
        },
        "outputId": "f52f3b28-0281-4988-9dea-73d9c337fa0b"
      },
      "source": [
        "# Write your code here \n",
        "\n",
        "# Use the same layer design from the above cell \n",
        "model = Sequential()\n",
        "model.add(Embedding(max_features, 8))\n",
        "model.add(LSTM(16, dropout=0.0, recurrent_dropout=0.0))\n",
        "model.add(Dense(1, activation='sigmoid'))\n",
        "model.summary()\n",
        "\n",
        "model.compile(loss='binary_crossentropy', optimizer='adam', metrics=['accuracy'])\n",
        "model.fit(x_train, y_train, batch_size=batch_size, epochs=1, validation_data=(x_test, y_test))\n",
        "\n",
        "score, acc = model.evaluate(x_test, y_test, batch_size=batch_size)\n",
        "print('Test score:', score)\n",
        "print('Test accuracy:', acc)"
      ],
      "execution_count": null,
      "outputs": [
        {
          "output_type": "stream",
          "text": [
            "Model: \"sequential_6\"\n",
            "_________________________________________________________________\n",
            "Layer (type)                 Output Shape              Param #   \n",
            "=================================================================\n",
            "embedding_6 (Embedding)      (None, None, 8)           8000      \n",
            "_________________________________________________________________\n",
            "lstm_6 (LSTM)                (None, 16)                1600      \n",
            "_________________________________________________________________\n",
            "dense_6 (Dense)              (None, 1)                 17        \n",
            "=================================================================\n",
            "Total params: 9,617\n",
            "Trainable params: 9,617\n",
            "Non-trainable params: 0\n",
            "_________________________________________________________________\n",
            "782/782 [==============================] - 31s 37ms/step - loss: 0.5868 - accuracy: 0.6574 - val_loss: 0.4189 - val_accuracy: 0.8068\n",
            "782/782 [==============================] - 5s 6ms/step - loss: 0.4189 - accuracy: 0.8068\n",
            "Test score: 0.4188700318336487\n",
            "Test accuracy: 0.8068400025367737\n"
          ],
          "name": "stdout"
        }
      ]
    },
    {
      "cell_type": "code",
      "metadata": {
        "id": "HtWxrXlSqz_h",
        "colab": {
          "base_uri": "https://localhost:8080/"
        },
        "outputId": "4d543db2-25cf-4510-c5b2-f50ca69b95cf"
      },
      "source": [
        "# Write your code here. Use the same architecture as above. \r\n",
        "\r\n",
        "model = Sequential()\r\n",
        "model.add(Embedding(max_features, 8))\r\n",
        "model.add(LSTM(128, dropout=0.0, recurrent_dropout=0.0))\r\n",
        "model.add(Dense(1, activation='sigmoid'))\r\n",
        "model.summary()\r\n",
        "\r\n",
        "model.compile(loss='binary_crossentropy', optimizer='adam', metrics=['accuracy'])\r\n",
        "model.fit(x_train, y_train, batch_size=batch_size, epochs=1, validation_data=(x_test, y_test))\r\n",
        "\r\n",
        "score, acc = model.evaluate(x_test, y_test, batch_size=batch_size)\r\n",
        "print('Test score:', score)\r\n",
        "print('Test accuracy:', acc)"
      ],
      "execution_count": null,
      "outputs": [
        {
          "output_type": "stream",
          "text": [
            "Model: \"sequential_9\"\n",
            "_________________________________________________________________\n",
            "Layer (type)                 Output Shape              Param #   \n",
            "=================================================================\n",
            "embedding_9 (Embedding)      (None, None, 8)           8000      \n",
            "_________________________________________________________________\n",
            "lstm_9 (LSTM)                (None, 128)               70144     \n",
            "_________________________________________________________________\n",
            "dense_9 (Dense)              (None, 1)                 129       \n",
            "=================================================================\n",
            "Total params: 78,273\n",
            "Trainable params: 78,273\n",
            "Non-trainable params: 0\n",
            "_________________________________________________________________\n",
            "782/782 [==============================] - 89s 111ms/step - loss: 0.5826 - accuracy: 0.6680 - val_loss: 0.4025 - val_accuracy: 0.8153\n",
            "782/782 [==============================] - 21s 27ms/step - loss: 0.4025 - accuracy: 0.8153\n",
            "Test score: 0.40254464745521545\n",
            "Test accuracy: 0.8153200149536133\n"
          ],
          "name": "stdout"
        }
      ]
    },
    {
      "cell_type": "code",
      "metadata": {
        "id": "dxKG07zVQwqo"
      },
      "source": [
        ""
      ],
      "execution_count": null,
      "outputs": []
    },
    {
      "cell_type": "markdown",
      "metadata": {
        "id": "kFur07amrA4Z"
      },
      "source": [
        "### Write your findings about number of nodes here?\r\n",
        "\r\n",
        "1.   As the number of nodes increases training time and number of parameter also increases.\r\n",
        "2.  If test accuracy is checked for models with  higher number of nodes, we can see that test accuracy won't increase much and stay near  0.81. The reason for this may be model is not very deep or training data is not enough. Also, train and test data may no be from the same distribution\r\n",
        "\r\n"
      ]
    },
    {
      "cell_type": "markdown",
      "metadata": {
        "id": "CB8nJBhFibBd"
      },
      "source": [
        "## Part 2: Influence of Embedding\r\n",
        "\r\n"
      ]
    },
    {
      "cell_type": "code",
      "metadata": {
        "trusted": true,
        "id": "rRHQ89RiibBf",
        "colab": {
          "base_uri": "https://localhost:8080/"
        },
        "outputId": "009583a9-d597-4dfd-e74a-dbeabedc5373"
      },
      "source": [
        "model = Sequential()\n",
        "model.add(Embedding(max_features, 4))\n",
        "model.add(LSTM(16, dropout=0.0, recurrent_dropout=0.0))\n",
        "model.add(Dense(1, activation='sigmoid'))\n",
        "model.summary()\n",
        "\n",
        "model.compile(loss='binary_crossentropy', optimizer='adam', metrics=['accuracy'])\n",
        "model.fit(x_train, y_train, batch_size=batch_size, epochs=1, validation_data=(x_test, y_test))\n",
        "\n",
        "score, acc = model.evaluate(x_test, y_test, batch_size=batch_size)\n",
        "print('Test score:', score)\n",
        "print('Test accuracy:', acc)"
      ],
      "execution_count": null,
      "outputs": [
        {
          "output_type": "stream",
          "text": [
            "Model: \"sequential_10\"\n",
            "_________________________________________________________________\n",
            "Layer (type)                 Output Shape              Param #   \n",
            "=================================================================\n",
            "embedding_10 (Embedding)     (None, None, 4)           4000      \n",
            "_________________________________________________________________\n",
            "lstm_10 (LSTM)               (None, 16)                1344      \n",
            "_________________________________________________________________\n",
            "dense_10 (Dense)             (None, 1)                 17        \n",
            "=================================================================\n",
            "Total params: 5,361\n",
            "Trainable params: 5,361\n",
            "Non-trainable params: 0\n",
            "_________________________________________________________________\n",
            "782/782 [==============================] - 30s 35ms/step - loss: 0.5900 - accuracy: 0.6561 - val_loss: 0.4150 - val_accuracy: 0.8118\n",
            "782/782 [==============================] - 5s 6ms/step - loss: 0.4150 - accuracy: 0.8118\n",
            "Test score: 0.4150388538837433\n",
            "Test accuracy: 0.8118000030517578\n"
          ],
          "name": "stdout"
        }
      ]
    },
    {
      "cell_type": "code",
      "metadata": {
        "id": "LI5WWTvbr6vV",
        "colab": {
          "base_uri": "https://localhost:8080/"
        },
        "outputId": "a66de19c-de8e-4195-d801-0590b81997e9"
      },
      "source": [
        "# Write your code here. Use the same architecture as above. \r\n",
        "\r\n",
        "model = Sequential()\r\n",
        "model.add(Embedding(max_features, 8))\r\n",
        "model.add(LSTM(16, dropout=0.0, recurrent_dropout=0.0))\r\n",
        "model.add(Dense(1, activation='sigmoid'))\r\n",
        "model.summary()\r\n",
        "\r\n",
        "model.compile(loss='binary_crossentropy', optimizer='adam', metrics=['accuracy'])\r\n",
        "model.fit(x_train, y_train, batch_size=batch_size, epochs=1, validation_data=(x_test, y_test))\r\n",
        "\r\n",
        "score, acc = model.evaluate(x_test, y_test, batch_size=batch_size)\r\n",
        "print('Test score:', score)\r\n",
        "print('Test accuracy:', acc)"
      ],
      "execution_count": null,
      "outputs": [
        {
          "output_type": "stream",
          "text": [
            "Model: \"sequential_11\"\n",
            "_________________________________________________________________\n",
            "Layer (type)                 Output Shape              Param #   \n",
            "=================================================================\n",
            "embedding_11 (Embedding)     (None, None, 8)           8000      \n",
            "_________________________________________________________________\n",
            "lstm_11 (LSTM)               (None, 16)                1600      \n",
            "_________________________________________________________________\n",
            "dense_11 (Dense)             (None, 1)                 17        \n",
            "=================================================================\n",
            "Total params: 9,617\n",
            "Trainable params: 9,617\n",
            "Non-trainable params: 0\n",
            "_________________________________________________________________\n",
            "782/782 [==============================] - 31s 37ms/step - loss: 0.5823 - accuracy: 0.6620 - val_loss: 0.4078 - val_accuracy: 0.8087\n",
            "782/782 [==============================] - 5s 6ms/step - loss: 0.4078 - accuracy: 0.8087\n",
            "Test score: 0.40780434012413025\n",
            "Test accuracy: 0.80867999792099\n"
          ],
          "name": "stdout"
        }
      ]
    },
    {
      "cell_type": "code",
      "metadata": {
        "id": "UVnNJ6Q7r8OD",
        "colab": {
          "base_uri": "https://localhost:8080/"
        },
        "outputId": "e69614ea-040e-45c7-b41d-db8a0b685725"
      },
      "source": [
        "# Write your code here. Use the same architecture as above. \r\n",
        "model = Sequential()\r\n",
        "model.add(Embedding(max_features, 16))\r\n",
        "model.add(LSTM(16, dropout=0.0, recurrent_dropout=0.0))\r\n",
        "model.add(Dense(1, activation='sigmoid'))\r\n",
        "model.summary()\r\n",
        "\r\n",
        "model.compile(loss='binary_crossentropy', optimizer='adam', metrics=['accuracy'])\r\n",
        "model.fit(x_train, y_train, batch_size=batch_size, epochs=1, validation_data=(x_test, y_test))\r\n",
        "\r\n",
        "score, acc = model.evaluate(x_test, y_test, batch_size=batch_size)\r\n",
        "print('Test score:', score)\r\n",
        "print('Test accuracy:', acc)\r\n"
      ],
      "execution_count": null,
      "outputs": [
        {
          "output_type": "stream",
          "text": [
            "Model: \"sequential_12\"\n",
            "_________________________________________________________________\n",
            "Layer (type)                 Output Shape              Param #   \n",
            "=================================================================\n",
            "embedding_12 (Embedding)     (None, None, 16)          16000     \n",
            "_________________________________________________________________\n",
            "lstm_12 (LSTM)               (None, 16)                2112      \n",
            "_________________________________________________________________\n",
            "dense_12 (Dense)             (None, 1)                 17        \n",
            "=================================================================\n",
            "Total params: 18,129\n",
            "Trainable params: 18,129\n",
            "Non-trainable params: 0\n",
            "_________________________________________________________________\n",
            "782/782 [==============================] - 30s 36ms/step - loss: 0.5624 - accuracy: 0.6902 - val_loss: 0.3975 - val_accuracy: 0.8185\n",
            "782/782 [==============================] - 5s 6ms/step - loss: 0.3975 - accuracy: 0.8185\n",
            "Test score: 0.3974722623825073\n",
            "Test accuracy: 0.8185200095176697\n"
          ],
          "name": "stdout"
        }
      ]
    },
    {
      "cell_type": "markdown",
      "metadata": {
        "id": "bMqv2Kf1r3VP"
      },
      "source": [
        "### Write your findings about number of embedding features here?\r\n",
        "\r\n",
        "1.   Embedding doesnt seem to effect training time.\r\n",
        "2.   Even though learnable parameters seem to increase test accuracy didnt increase much. The reason for this underfitting problem may be model is not very deep or training data is not enough. Also, train and test data may no be from the same distribution \r\n"
      ]
    },
    {
      "cell_type": "markdown",
      "metadata": {
        "id": "5ENmvb0BibBi"
      },
      "source": [
        "## Part 3: Influence of Dropout\r\n",
        "\r\n",
        "Try the models with different rates of dropout from 0 to 1\r\n",
        "\r\n",
        "Analyze the number of model parameters, accuracy and training time"
      ]
    },
    {
      "cell_type": "markdown",
      "metadata": {
        "id": "HXpsYJzNibBj"
      },
      "source": [
        "### Dropout with rate 0.5"
      ]
    },
    {
      "cell_type": "code",
      "metadata": {
        "trusted": true,
        "id": "pBQ4317BibBk",
        "colab": {
          "base_uri": "https://localhost:8080/"
        },
        "outputId": "e792c2d3-88f2-4a11-ca4a-526cddf533ae"
      },
      "source": [
        "model = Sequential()\n",
        "model.add(Embedding(max_features, 32))\n",
        "model.add(LSTM(8, dropout=0.5, recurrent_dropout=0.5))\n",
        "model.add(Dense(1, activation='sigmoid'))\n",
        "model.summary()\n",
        "\n",
        "model.compile(loss='binary_crossentropy', optimizer='adam', metrics=['accuracy'])\n",
        "model.fit(x_train, y_train, batch_size=batch_size, epochs=1, validation_data=(x_test, y_test))\n",
        "\n",
        "score, acc = model.evaluate(x_test, y_test, batch_size=batch_size)\n",
        "print('Test score:', score)\n",
        "print('Test accuracy:', acc)"
      ],
      "execution_count": null,
      "outputs": [
        {
          "output_type": "stream",
          "text": [
            "Model: \"sequential_16\"\n",
            "_________________________________________________________________\n",
            "Layer (type)                 Output Shape              Param #   \n",
            "=================================================================\n",
            "embedding_16 (Embedding)     (None, None, 32)          32000     \n",
            "_________________________________________________________________\n",
            "lstm_16 (LSTM)               (None, 8)                 1312      \n",
            "_________________________________________________________________\n",
            "dense_16 (Dense)             (None, 1)                 9         \n",
            "=================================================================\n",
            "Total params: 33,321\n",
            "Trainable params: 33,321\n",
            "Non-trainable params: 0\n",
            "_________________________________________________________________\n",
            "782/782 [==============================] - 66s 81ms/step - loss: 0.6229 - accuracy: 0.6580 - val_loss: 0.4462 - val_accuracy: 0.7988\n",
            "782/782 [==============================] - 7s 9ms/step - loss: 0.4462 - accuracy: 0.7988\n",
            "Test score: 0.4462263584136963\n",
            "Test accuracy: 0.7987599968910217\n"
          ],
          "name": "stdout"
        }
      ]
    },
    {
      "cell_type": "code",
      "metadata": {
        "trusted": true,
        "id": "rEHxPCN7ibBo",
        "colab": {
          "base_uri": "https://localhost:8080/"
        },
        "outputId": "2b0a22f5-0436-48dc-d7f5-178daa72aca1"
      },
      "source": [
        "# Write your code here. Use the same architecture as above. \n",
        "\n",
        "model = Sequential()\n",
        "model.add(Embedding(max_features, 32))\n",
        "model.add(LSTM(8, dropout=0.2, recurrent_dropout=0.5))\n",
        "model.add(Dense(1, activation='sigmoid'))\n",
        "model.summary()\n",
        "\n",
        "model.compile(loss='binary_crossentropy', optimizer='adam', metrics=['accuracy'])\n",
        "model.fit(x_train, y_train, batch_size=batch_size, epochs=1, validation_data=(x_test, y_test))\n",
        "\n",
        "score, acc = model.evaluate(x_test, y_test, batch_size=batch_size)\n",
        "print('Test score:', score)\n",
        "print('Test accuracy:', acc)"
      ],
      "execution_count": null,
      "outputs": [
        {
          "output_type": "stream",
          "text": [
            "Model: \"sequential_17\"\n",
            "_________________________________________________________________\n",
            "Layer (type)                 Output Shape              Param #   \n",
            "=================================================================\n",
            "embedding_17 (Embedding)     (None, None, 32)          32000     \n",
            "_________________________________________________________________\n",
            "lstm_17 (LSTM)               (None, 8)                 1312      \n",
            "_________________________________________________________________\n",
            "dense_17 (Dense)             (None, 1)                 9         \n",
            "=================================================================\n",
            "Total params: 33,321\n",
            "Trainable params: 33,321\n",
            "Non-trainable params: 0\n",
            "_________________________________________________________________\n",
            "782/782 [==============================] - 66s 81ms/step - loss: 0.5980 - accuracy: 0.6588 - val_loss: 0.4142 - val_accuracy: 0.8082\n",
            "782/782 [==============================] - 8s 10ms/step - loss: 0.4142 - accuracy: 0.8082\n",
            "Test score: 0.4142338037490845\n",
            "Test accuracy: 0.8082399964332581\n"
          ],
          "name": "stdout"
        }
      ]
    },
    {
      "cell_type": "code",
      "metadata": {
        "id": "--A0IdGbsAa-",
        "colab": {
          "base_uri": "https://localhost:8080/"
        },
        "outputId": "07c7284d-2ce8-4017-fbf5-868638324fe6"
      },
      "source": [
        "# Write your code here. Use the same architecture as above. \r\n",
        "\r\n",
        "model = Sequential()\r\n",
        "model.add(Embedding(max_features, 32))\r\n",
        "model.add(LSTM(8, dropout=0.8, recurrent_dropout=0.5))\r\n",
        "model.add(Dense(1, activation='sigmoid'))\r\n",
        "model.summary()\r\n",
        "\r\n",
        "model.compile(loss='binary_crossentropy', optimizer='adam', metrics=['accuracy'])\r\n",
        "model.fit(x_train, y_train, batch_size=batch_size, epochs=1, validation_data=(x_test, y_test))\r\n",
        "\r\n",
        "score, acc = model.evaluate(x_test, y_test, batch_size=batch_size)\r\n",
        "print('Test score:', score)\r\n",
        "print('Test accuracy:', acc)"
      ],
      "execution_count": null,
      "outputs": [
        {
          "output_type": "stream",
          "text": [
            "Model: \"sequential_18\"\n",
            "_________________________________________________________________\n",
            "Layer (type)                 Output Shape              Param #   \n",
            "=================================================================\n",
            "embedding_18 (Embedding)     (None, None, 32)          32000     \n",
            "_________________________________________________________________\n",
            "lstm_18 (LSTM)               (None, 8)                 1312      \n",
            "_________________________________________________________________\n",
            "dense_18 (Dense)             (None, 1)                 9         \n",
            "=================================================================\n",
            "Total params: 33,321\n",
            "Trainable params: 33,321\n",
            "Non-trainable params: 0\n",
            "_________________________________________________________________\n",
            "782/782 [==============================] - 70s 84ms/step - loss: 0.6361 - accuracy: 0.6201 - val_loss: 0.4330 - val_accuracy: 0.8042\n",
            "782/782 [==============================] - 8s 10ms/step - loss: 0.4330 - accuracy: 0.8042\n",
            "Test score: 0.43302756547927856\n",
            "Test accuracy: 0.8041599988937378\n"
          ],
          "name": "stdout"
        }
      ]
    },
    {
      "cell_type": "markdown",
      "metadata": {
        "id": "bK0QJhngsH_t"
      },
      "source": [
        "### Write your findings about influence of dropout rate here?\r\n",
        "\r\n",
        "1.   Looking at the results for different dropout values we cant reach a certain result. Dropout is mostly used for overftting problem. Since this model has underfitting problem we cant see effect of different dropout values.\r\n",
        "2.   Also dropout values doesnt seem to affect traing time.\r\n"
      ]
    },
    {
      "cell_type": "markdown",
      "metadata": {
        "id": "VZu33HjEibBq"
      },
      "source": [
        "## Part 4: Multilayered RNNs\r\n",
        "\r\n",
        "Try the models with different number of layers from smaller to larger.\r\n",
        "\r\n",
        "Analyze the number of model parameters, accuracy and training time"
      ]
    },
    {
      "cell_type": "markdown",
      "metadata": {
        "id": "T26reJlTibBq"
      },
      "source": [
        "### RNN with 2 layer LSTM"
      ]
    },
    {
      "cell_type": "code",
      "metadata": {
        "trusted": true,
        "id": "LScH30z1ibBr",
        "colab": {
          "base_uri": "https://localhost:8080/"
        },
        "outputId": "3e58866d-b029-4baf-9498-a8349f5e802b"
      },
      "source": [
        "model = Sequential()\n",
        "model.add(Embedding(max_features, 8))\n",
        "model.add(LSTM(8, dropout=0.0, recurrent_dropout=0.0, return_sequences=True))\n",
        "model.add(LSTM(8, dropout=0.0, recurrent_dropout=0.0, return_sequences=True))\n",
        "model.add(LSTM(8, dropout=0.0, recurrent_dropout=0.0))\n",
        "model.add(Dense(1, activation='sigmoid'))\n",
        "model.summary()\n",
        "\n",
        "model.compile(loss='binary_crossentropy', optimizer='adam', metrics=['accuracy'])\n",
        "model.fit(x_train, y_train, batch_size=batch_size, epochs=1, validation_data=(x_test, y_test))\n",
        "\n",
        "score, acc = model.evaluate(x_test, y_test, batch_size=batch_size)\n",
        "print('Test score:', score)\n",
        "print('Test accuracy:', acc)"
      ],
      "execution_count": null,
      "outputs": [
        {
          "output_type": "stream",
          "text": [
            "Model: \"sequential_19\"\n",
            "_________________________________________________________________\n",
            "Layer (type)                 Output Shape              Param #   \n",
            "=================================================================\n",
            "embedding_19 (Embedding)     (None, None, 8)           8000      \n",
            "_________________________________________________________________\n",
            "lstm_19 (LSTM)               (None, None, 8)           544       \n",
            "_________________________________________________________________\n",
            "lstm_20 (LSTM)               (None, None, 8)           544       \n",
            "_________________________________________________________________\n",
            "lstm_21 (LSTM)               (None, 8)                 544       \n",
            "_________________________________________________________________\n",
            "dense_19 (Dense)             (None, 1)                 9         \n",
            "=================================================================\n",
            "Total params: 9,641\n",
            "Trainable params: 9,641\n",
            "Non-trainable params: 0\n",
            "_________________________________________________________________\n",
            "782/782 [==============================] - 81s 96ms/step - loss: 0.5905 - accuracy: 0.6558 - val_loss: 0.4213 - val_accuracy: 0.8078\n",
            "782/782 [==============================] - 10s 13ms/step - loss: 0.4213 - accuracy: 0.8078\n",
            "Test score: 0.4213113784790039\n",
            "Test accuracy: 0.8078399896621704\n"
          ],
          "name": "stdout"
        }
      ]
    },
    {
      "cell_type": "markdown",
      "metadata": {
        "id": "9dcVD_Q-ibBt"
      },
      "source": [
        "### RNN with 3 layer LSTM"
      ]
    },
    {
      "cell_type": "code",
      "metadata": {
        "trusted": true,
        "id": "27GyLcMTibBv",
        "colab": {
          "base_uri": "https://localhost:8080/"
        },
        "outputId": "373f5db0-3b39-4e3b-deeb-c5bee9617ad9"
      },
      "source": [
        "# Write your code here. Use the same architecture as above. \n",
        "\n",
        "model = Sequential()\n",
        "model.add(Embedding(max_features, 8))\n",
        "model.add(LSTM(8, dropout=0.0, recurrent_dropout=0.0, return_sequences=True))\n",
        "model.add(LSTM(8, dropout=0.0, recurrent_dropout=0.0, return_sequences=True))\n",
        "model.add(LSTM(8, dropout=0.0, recurrent_dropout=0.0, return_sequences=True))\n",
        "model.add(LSTM(8, dropout=0.0, recurrent_dropout=0.0, return_sequences=True))\n",
        "model.add(LSTM(8, dropout=0.0, recurrent_dropout=0.0))\n",
        "model.add(Dense(1, activation='sigmoid'))\n",
        "model.summary()\n",
        "\n",
        "model.compile(loss='binary_crossentropy', optimizer='adam', metrics=['accuracy'])\n",
        "model.fit(x_train, y_train, batch_size=batch_size, epochs=1, validation_data=(x_test, y_test))\n",
        "\n",
        "score, acc = model.evaluate(x_test, y_test, batch_size=batch_size)\n",
        "print('Test score:', score)\n",
        "print('Test accuracy:', acc)"
      ],
      "execution_count": null,
      "outputs": [
        {
          "output_type": "stream",
          "text": [
            "Model: \"sequential_21\"\n",
            "_________________________________________________________________\n",
            "Layer (type)                 Output Shape              Param #   \n",
            "=================================================================\n",
            "embedding_21 (Embedding)     (None, None, 8)           8000      \n",
            "_________________________________________________________________\n",
            "lstm_26 (LSTM)               (None, None, 8)           544       \n",
            "_________________________________________________________________\n",
            "lstm_27 (LSTM)               (None, None, 8)           544       \n",
            "_________________________________________________________________\n",
            "lstm_28 (LSTM)               (None, None, 8)           544       \n",
            "_________________________________________________________________\n",
            "lstm_29 (LSTM)               (None, None, 8)           544       \n",
            "_________________________________________________________________\n",
            "lstm_30 (LSTM)               (None, 8)                 544       \n",
            "_________________________________________________________________\n",
            "dense_21 (Dense)             (None, 1)                 9         \n",
            "=================================================================\n",
            "Total params: 10,729\n",
            "Trainable params: 10,729\n",
            "Non-trainable params: 0\n",
            "_________________________________________________________________\n",
            "782/782 [==============================] - 133s 158ms/step - loss: 0.6066 - accuracy: 0.6380 - val_loss: 0.4425 - val_accuracy: 0.7963\n",
            "782/782 [==============================] - 17s 21ms/step - loss: 0.4425 - accuracy: 0.7963\n",
            "Test score: 0.4425069987773895\n",
            "Test accuracy: 0.796280026435852\n"
          ],
          "name": "stdout"
        }
      ]
    },
    {
      "cell_type": "markdown",
      "metadata": {
        "id": "gjD_fTTCibBx"
      },
      "source": [
        "### Write your findings about number of layers here?\r\n",
        "\r\n",
        "1.   With more layer traing time increased.\r\n",
        "2.   Deeper model didnt seem to increase training accuracy. We can conclude that training data is not enough for this model or train and test data is not from the same distribution."
      ]
    },
    {
      "cell_type": "code",
      "metadata": {
        "id": "rIdsk9lGseo4"
      },
      "source": [
        ""
      ],
      "execution_count": null,
      "outputs": []
    }
  ]
}